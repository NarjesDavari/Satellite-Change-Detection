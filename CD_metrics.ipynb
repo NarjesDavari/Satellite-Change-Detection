{
 "cells": [
  {
   "cell_type": "code",
   "execution_count": 6,
   "id": "54301443-6ad7-4210-8766-02e1d2f7ee7b",
   "metadata": {},
   "outputs": [],
   "source": [
    "import os\n",
    "import numpy as np\n",
    "import torch\n",
    "import matplotlib.pyplot as plt\n",
    "import cv2\n",
    "import matplotlib.patches as patches\n",
    "from sklearn.metrics import confusion_matrix\n"
   ]
  },
  {
   "cell_type": "code",
   "execution_count": 7,
   "id": "2e6e2068-9da1-4de7-896a-e017b40d5d67",
   "metadata": {},
   "outputs": [],
   "source": [
    "torch.cuda.empty_cache()"
   ]
  },
  {
   "cell_type": "code",
   "execution_count": 8,
   "id": "b55b1dab-1319-40a9-9691-c6d9ed9e6a82",
   "metadata": {},
   "outputs": [],
   "source": [
    "# pip install git+https://github.com/facebookresearch/segment-anything.git\n",
    "\n",
    "import sys\n",
    "sys.path.append(\"..\")\n",
    "from segment_anything import sam_model_registry, SamAutomaticMaskGenerator, SamPredictor\n",
    "\n",
    "sam_checkpoint = \"sam_vit_h_4b8939.pth\"\n",
    "model_type = \"vit_h\"\n",
    "\n",
    "device = \"cuda\"\n",
    "sam = sam_model_registry[model_type](checkpoint=sam_checkpoint)\n",
    "sam.to(device=device)\n",
    "\n",
    "mask_generator = SamAutomaticMaskGenerator(sam)\n",
    "\n",
    "sam_predictor = SamPredictor(sam)"
   ]
  },
  {
   "cell_type": "code",
   "execution_count": 9,
   "id": "97e54b1e-d1e2-4fa8-80be-1061483ad57b",
   "metadata": {},
   "outputs": [],
   "source": [
    "def read_imag(file_path):\n",
    "    name_img = os.path.basename(file_path)\n",
    "    name_img, ext = os.path.splitext(name_img)\n",
    "    print(name_img)\n",
    "    if os.path.exists(file_path):\n",
    "        img = cv2.imread(file_path)\n",
    "        img = cv2.cvtColor(img, cv2.COLOR_BGR2RGB)\n",
    "        #image1 =cv2.resize(img, (size_resize,size_resize))\n",
    "      #  image11 = 255 * (image1 - image1.min()) / (image1.max() - image1.min())\n",
    "    else:\n",
    "        print(\"File not found:\", file_path)\n",
    "    return img,name_img"
   ]
  },
  {
   "cell_type": "code",
   "execution_count": 10,
   "id": "64fe46ec-a601-4b6e-9bbf-997035b0d5b1",
   "metadata": {},
   "outputs": [],
   "source": [
    "def Gamma_Correction (image, gamma):\n",
    "\n",
    "    gamma_corrected_image = np.power(image / 255.0, gamma) * 255.0\n",
    "    image_GC = np.uint8(gamma_corrected_image) #gamma_corrected image\n",
    "    return image_GC"
   ]
  },
  {
   "cell_type": "code",
   "execution_count": 11,
   "id": "8819bc64-9bbb-4b29-a441-85bc6ccbb67c",
   "metadata": {},
   "outputs": [],
   "source": [
    "#rescale_intensity\n",
    "from skimage import exposure, img_as_float\n",
    "from skimage.util import compare_images\n",
    "\n",
    "def preprocessing(image):\n",
    "    p2, p98 = np.percentile(image, (2, 98))\n",
    "    img_rescale = exposure.rescale_intensity(image, in_range=(p2,p98)) # Contrast stretching\n",
    "    #print(image1.mean() > img_rescale.mean()) # Output is darker for gamma > 1\n",
    "    #equalize_hist\n",
    "    img_equalized = exposure.equalize_hist(image)\n",
    "    img_equalized = (img_equalized* 255).astype('uint8')\n",
    "    # Gaussian Blur is used to remove the random noise in the image pixel. kernel size=(7,7), and standard deviation = 0\n",
    "    imag_BlurGaussian = cv2.GaussianBlur(image, (7, 7), 0) \n",
    "    #comp_equalized = compare_images(image1, img1_equalized, method='checkerboard')\n",
    "    return img_rescale, img_equalized,imag_BlurGaussian\n",
    "\n",
    "def plot_image_preproc(imag,img_rescale,img_equalized,img_BlurGaussian, name_img):\n",
    "    fig, (ax1, ax2,ax3,ax4) = plt.subplots(1, 4, figsize=(15, 10))\n",
    "    ax1.imshow(imag)\n",
    "    ax1.set_title('Raw image')\n",
    "    ax1.set_ylabel('{}'.format(name_img))\n",
    "    ax2.imshow(img_rescale)\n",
    "    ax2.set_title('Contrast stretching')\n",
    "    ax3.imshow(img_equalized)\n",
    "    ax3.set_title('Equalized hist')\n",
    "    ax4.imshow(img_BlurGaussian)\n",
    "    ax4.set_title('Gaussian Blur')\n",
    "    plt.show()"
   ]
  },
  {
   "cell_type": "code",
   "execution_count": 12,
   "id": "cbe0aa9f-ba21-4b81-9ea6-93d09a2915e4",
   "metadata": {},
   "outputs": [],
   "source": [
    "##Generate Masks"
   ]
  },
  {
   "cell_type": "code",
   "execution_count": 13,
   "id": "7b23af73-1b69-4906-921b-b86c8673c03b",
   "metadata": {},
   "outputs": [],
   "source": [
    "#Evalute Masks\n",
    "def select_segment(masks):\n",
    "    #print(\"the area of bigest segment is:\", max(region['area'] for region in masks))\n",
    "    #print(\"the area of smallest segment is\", min(region['area'] for region in masks))\n",
    "    mean_areas = np.mean([region['area'] for region in masks])\n",
    "    median_areas = np.median([region['area'] for region in masks])\n",
    "  #  print(\"the mean value of segmented area is\", mean_areas)\n",
    "  #  print(\"the median value of segmented area is\", median_areas)\n",
    "\n",
    "    upper_quartile = np.percentile([region['area'] for region in masks], 75)\n",
    "    lower_quartile = np.percentile([region['area'] for region in masks], 25)\n",
    "    iqr = upper_quartile - lower_quartile\n",
    "    thr_boxplot_u = upper_quartile +3*iqr\n",
    "    thr_boxplot_d = lower_quartile -3*iqr\n",
    "   # print(\"the upper threshold by boxplot:\", thr_boxplot_u)\n",
    "   # print(\"the lower threshold by boxplot:\", thr_boxplot_d)\n",
    "\n",
    "    threshold1= median_areas\n",
    "    threshold2= mean_areas\n",
    "    selected_segments_m = [region for region in masks if ((region['area'] > threshold1) & (region['area'] < threshold2))]\n",
    "   # print(\"length of selected segments by M1 is:\", len(selected_segments_m))\n",
    "\n",
    "    selected_segments_b = [region for region in masks if ((region['area'] > thr_boxplot_d) & (region['area'] < thr_boxplot_u))]\n",
    "   # print(\"length of selected segments by M2 is:\", len(selected_segments_b))\n",
    "    return selected_segments_m, selected_segments_b\n",
    "\n",
    "def plot_selec_seg(img,selected_segments,selected_segments_b,name_img):\n",
    "    fig, ((ax1, ax2), (ax3, ax4)) = plt.subplots(2,2, figsize=(10,8))\n",
    "    ax1.imshow(img)\n",
    "    show_anns(selected_segments,ax1)\n",
    "    ax1.set_title('Image {}'.format(name_img)+ 'with selected segmented areas m1', fontsize=10)\n",
    "    ax2.imshow(img)\n",
    "    plot_bb(selected_segments,ax2)\n",
    "    ax2.set_title('Image {}'.format(name_img)+ 'with selected Bounding Boxes m1', fontsize=10)\n",
    "    ax3.imshow(img)\n",
    "    show_anns(selected_segments_b,ax3)\n",
    "    ax3.set_title('Image {}'.format(name_img)+ 'with selected segmented areas m2', fontsize=10)\n",
    "    ax4.imshow(img)\n",
    "    plot_bb(selected_segments_b,ax4)\n",
    "    ax4.set_title('Image {}'.format(name_img)+ 'with selected Bounding Boxes m2', fontsize=10)\n",
    "    plt.show()"
   ]
  },
  {
   "cell_type": "code",
   "execution_count": 14,
   "id": "e2f7ca43-670b-4cfd-92c7-f1ab31098a6b",
   "metadata": {},
   "outputs": [],
   "source": [
    "#change detection"
   ]
  },
  {
   "cell_type": "code",
   "execution_count": 15,
   "id": "a4c03123-59c7-48c2-8ae3-5a741f3233da",
   "metadata": {},
   "outputs": [],
   "source": [
    "def calculate_iou_bb(boxA, boxB):\n",
    "    xA = max(boxA[0], boxB[0])\n",
    "    yA = max(boxA[1], boxB[1])\n",
    "    xB = min(boxA[0] + boxA[2], boxB[0] + boxB[2])\n",
    "    yB = min(boxA[1] + boxA[3], boxB[1] + boxB[3])\n",
    "    width_inter = max(0, xB - xA)\n",
    "    height_inter = max(0, yB - yA)\n",
    "    area_inter = width_inter * height_inter\n",
    "    area_A = boxA[2] * boxA[3]\n",
    "    area_B = boxB[2] * boxB[3]\n",
    "    area_union = area_A + area_B - area_inter\n",
    "    iou = area_inter / max(area_union, 1e-10)  # To avoid division by zero\n",
    "    return iou"
   ]
  },
  {
   "cell_type": "code",
   "execution_count": null,
   "id": "a8c354bf-5111-4802-97ea-230844ccd44a",
   "metadata": {},
   "outputs": [],
   "source": []
  },
  {
   "cell_type": "code",
   "execution_count": 16,
   "id": "e4d01fb4-a803-42bf-b223-0d2adf034141",
   "metadata": {},
   "outputs": [],
   "source": [
    "def match_objects_bb(segments1, segments2, iou_threshold):\n",
    "    matches = []\n",
    "    mached_seg1 =[]\n",
    "    mached_seg2 = []\n",
    "    unmatch_seg1=[]\n",
    "    \n",
    "    for idx1, seg1 in enumerate(segments1):\n",
    "        bbox1 = seg1['bbox']\n",
    "\n",
    "        best_match = None\n",
    "        best_iou = 0.0\n",
    "\n",
    "        for idx2, seg2 in enumerate(segments2):\n",
    "            #print(len(segments2))\n",
    "            bbox2 = seg2['bbox']\n",
    "            iou = calculate_iou_bb(bbox1, bbox2)\n",
    "           # print(iou)\n",
    "            if iou > best_iou:\n",
    "                best_iou = iou\n",
    "                best_match = idx2\n",
    "                seg_match = seg2\n",
    "        if best_iou >= iou_threshold:\n",
    "            #print(best_iou)\n",
    "            matches.append((idx1, best_match))\n",
    "            mached_seg2.append(seg_match)\n",
    "            mached_seg1.append(seg1)\n",
    "           # del segments2[best_match]\n",
    "        else:\n",
    "            unmatch_seg1.append(seg1)\n",
    "          \n",
    "\n",
    "    return matches,mached_seg1,mached_seg2,unmatch_seg1\n"
   ]
  },
  {
   "cell_type": "code",
   "execution_count": 17,
   "id": "5a30ad10-151d-46d5-af3a-97faca653b51",
   "metadata": {},
   "outputs": [],
   "source": [
    "def show_anns2(anns, ax): #,name_img\n",
    "    if len(anns) == 0:\n",
    "        return\n",
    "   # np.random.seed(random_seed)\n",
    "    sorted_anns = sorted(anns, key=(lambda x: x['area']), reverse=True)\n",
    "   # print(len(sorted_anns))\n",
    "   # ax = plt.gca()\n",
    "    #ax.set_autoscale_on(False)\n",
    "    color_cover =[255, 255, 0]\n",
    "    img = np.ones((sorted_anns[0]['segmentation'].shape[0], sorted_anns[0]['segmentation'].shape[1], 4))\n",
    "    print(img.shape)\n",
    "    img[:,:,3] = 0\n",
    "    for ann in anns:\n",
    "        m = ann['segmentation']\n",
    "        m = np.array(m, dtype=bool)\n",
    "        color_mask = np.concatenate([color_cover, [.5]])\n",
    "        img[m] = color_mask\n",
    "    ax.imshow(img)"
   ]
  },
  {
   "cell_type": "code",
   "execution_count": 18,
   "id": "1920a8dc-a451-4d00-b7ce-ba8e9fad8846",
   "metadata": {},
   "outputs": [],
   "source": [
    "def calculate_metrics(confusion_matrix):\n",
    "    confusion_matrix = np.array(confusion_matrix)\n",
    "    TP = confusion_matrix[1, 1]\n",
    "    FP = confusion_matrix[0, 1]\n",
    "    FN = confusion_matrix[1, 0]\n",
    "    TN = confusion_matrix[0, 0]\n",
    "    \n",
    "    # Calculate accuracy\n",
    "    accuracy = (TP + TN) / (TP + FP + FN + TN)\n",
    "    \n",
    "    # Calculate precision\n",
    "    precision = TP / (TP + FP) if (TP + FP) > 0 else 0\n",
    "    \n",
    "    # Calculate recall (sensitivity)\n",
    "    recall = TP / (TP + FN) if (TP + FN) > 0 else 0\n",
    "    \n",
    "    # Calculate F1 score\n",
    "    f1_score = 2 * (precision * recall) / (precision + recall) if (precision + recall) > 0 else 0\n",
    "    \n",
    "    # Calculate specificity (True Negative Rate)\n",
    "    specificity = TN / (TN + FP) if (TN + FP) > 0 else 0\n",
    "    \n",
    "    # Calculate False Positive Rate (FPR)\n",
    "    fpr = FP / (FP + TN) if (FP + TN) > 0 else 0\n",
    "\n",
    "    return accuracy, precision, recall, f1_score, specificity, fpr"
   ]
  },
  {
   "cell_type": "code",
   "execution_count": 19,
   "id": "2743e1b7-e926-4653-8670-7199bcde2129",
   "metadata": {},
   "outputs": [],
   "source": [
    "def compute_IOU_CM(GT,predicted):\n",
    "    ## GT and predicted should be binary\n",
    "    '''\n",
    "    # Binarize images\n",
    "    _, ground_truth_bin = cv2.threshold(ground_truth, 127, 255, cv2.THRESH_BINARY)\n",
    "    _, predicted_bin = cv2.threshold(predicted, 127, 255, cv2.THRESH_BINARY)\n",
    "\n",
    "    # Convert 255 to 1 for IoU computation\n",
    "    ground_truth_bin = ground_truth_bin // 255\n",
    "    predicted_bin = predicted_bin // 255\n",
    "    '''\n",
    "    intersection = np.logical_and(GT, predicted)\n",
    "    union = np.logical_or(GT, predicted)\n",
    "    iou_score = np.sum(intersection) / np.sum(union)\n",
    "    print(f\"IoU Score: {iou_score}\")\n"
   ]
  },
  {
   "cell_type": "code",
   "execution_count": null,
   "id": "0fcb0e55-3f3f-46e8-999e-8b7018943f6a",
   "metadata": {},
   "outputs": [],
   "source": []
  },
  {
   "cell_type": "code",
   "execution_count": 29,
   "id": "d6e5c6b5-bf0f-4dd3-b385-83ceff3b9278",
   "metadata": {},
   "outputs": [
    {
     "name": "stdout",
     "output_type": "stream",
     "text": [
      "15\n",
      "15\n"
     ]
    },
    {
     "name": "stderr",
     "output_type": "stream",
     "text": [
      "/home/dock/project_CD_jupyter/my_project_env/lib/python3.8/site-packages/skimage/_shared/utils.py:316: UserWarning: This might be a color image. The histogram will be computed on the flattened image. You can instead apply this function to each color channel, or set channel_axis.\n",
      "  return func(*args, **kwargs)\n"
     ]
    },
    {
     "name": "stdout",
     "output_type": "stream",
     "text": [
      "the number of segments for image1: 113\n",
      "the number of segments for rescaled image1: 124\n",
      "the number of segments for equalized image1: 132\n",
      "the number of segments for blured image1: 102\n",
      "the number of segments for Gamma corrected image1: 106\n",
      "********************\n",
      "the number of segments for image2: 129\n",
      "the number of segments for rescaled image2: 126\n",
      "the number of segments for equalized image2: 126\n",
      "the number of segments for blured image2: 90\n",
      "the number of segments for Gamma corrected image2: 129\n",
      "********************\n",
      "the number of segments for image1 after thresholding #1: 23\n",
      "the number of segments for image1 after thresholding #2: 109\n",
      "the number of segments for image2 after thresholding #1: 34\n",
      "the number of segments for image2 after thresholding #2: 116\n",
      "length of reference mask is: 23\n",
      "length of mask under evalurion 1 is: 34\n",
      "(512, 512)\n",
      "IoU Score: 0.1512576200826973\n",
      "10\n",
      "10\n"
     ]
    },
    {
     "name": "stderr",
     "output_type": "stream",
     "text": [
      "/home/dock/project_CD_jupyter/my_project_env/lib/python3.8/site-packages/skimage/_shared/utils.py:316: UserWarning: This might be a color image. The histogram will be computed on the flattened image. You can instead apply this function to each color channel, or set channel_axis.\n",
      "  return func(*args, **kwargs)\n"
     ]
    },
    {
     "name": "stdout",
     "output_type": "stream",
     "text": [
      "the number of segments for image1: 77\n",
      "the number of segments for rescaled image1: 82\n",
      "the number of segments for equalized image1: 76\n",
      "the number of segments for blured image1: 77\n",
      "the number of segments for Gamma corrected image1: 82\n",
      "********************\n",
      "the number of segments for image2: 75\n",
      "the number of segments for rescaled image2: 94\n",
      "the number of segments for equalized image2: 88\n",
      "the number of segments for blured image2: 59\n",
      "the number of segments for Gamma corrected image2: 75\n",
      "********************\n",
      "the number of segments for image1 after thresholding #1: 22\n",
      "the number of segments for image1 after thresholding #2: 65\n",
      "the number of segments for image2 after thresholding #1: 22\n",
      "the number of segments for image2 after thresholding #2: 67\n",
      "length of reference mask is: 22\n",
      "length of mask under evalurion 1 is: 22\n",
      "(512, 512)\n",
      "IoU Score: 0.05926199891888816\n",
      "30\n",
      "30\n"
     ]
    },
    {
     "name": "stderr",
     "output_type": "stream",
     "text": [
      "/home/dock/project_CD_jupyter/my_project_env/lib/python3.8/site-packages/skimage/_shared/utils.py:316: UserWarning: This might be a color image. The histogram will be computed on the flattened image. You can instead apply this function to each color channel, or set channel_axis.\n",
      "  return func(*args, **kwargs)\n"
     ]
    },
    {
     "name": "stdout",
     "output_type": "stream",
     "text": [
      "the number of segments for image1: 100\n",
      "the number of segments for rescaled image1: 114\n",
      "the number of segments for equalized image1: 123\n",
      "the number of segments for blured image1: 86\n",
      "the number of segments for Gamma corrected image1: 104\n",
      "********************\n",
      "the number of segments for image2: 130\n",
      "the number of segments for rescaled image2: 144\n",
      "the number of segments for equalized image2: 148\n",
      "the number of segments for blured image2: 108\n",
      "the number of segments for Gamma corrected image2: 130\n",
      "********************\n",
      "the number of segments for image1 after thresholding #1: 26\n",
      "the number of segments for image1 after thresholding #2: 93\n",
      "the number of segments for image2 after thresholding #1: 32\n",
      "the number of segments for image2 after thresholding #2: 122\n",
      "length of reference mask is: 26\n",
      "length of mask under evalurion 1 is: 32\n",
      "(512, 512)\n",
      "IoU Score: 0.25161111770054956\n",
      "32\n",
      "32\n"
     ]
    },
    {
     "name": "stderr",
     "output_type": "stream",
     "text": [
      "/home/dock/project_CD_jupyter/my_project_env/lib/python3.8/site-packages/skimage/_shared/utils.py:316: UserWarning: This might be a color image. The histogram will be computed on the flattened image. You can instead apply this function to each color channel, or set channel_axis.\n",
      "  return func(*args, **kwargs)\n"
     ]
    },
    {
     "name": "stdout",
     "output_type": "stream",
     "text": [
      "the number of segments for image1: 93\n",
      "the number of segments for rescaled image1: 91\n",
      "the number of segments for equalized image1: 81\n",
      "the number of segments for blured image1: 63\n",
      "the number of segments for Gamma corrected image1: 90\n",
      "********************\n",
      "the number of segments for image2: 65\n",
      "the number of segments for rescaled image2: 61\n",
      "the number of segments for equalized image2: 64\n",
      "the number of segments for blured image2: 44\n",
      "the number of segments for Gamma corrected image2: 65\n",
      "********************\n",
      "the number of segments for image1 after thresholding #1: 37\n",
      "the number of segments for image1 after thresholding #2: 85\n",
      "the number of segments for image2 after thresholding #1: 25\n",
      "the number of segments for image2 after thresholding #2: 58\n",
      "length of reference mask is: 37\n",
      "length of mask under evalurion 1 is: 25\n",
      "(512, 512)\n",
      "IoU Score: 0.019126968749134995\n",
      "41\n",
      "41\n"
     ]
    },
    {
     "name": "stderr",
     "output_type": "stream",
     "text": [
      "/home/dock/project_CD_jupyter/my_project_env/lib/python3.8/site-packages/skimage/_shared/utils.py:316: UserWarning: This might be a color image. The histogram will be computed on the flattened image. You can instead apply this function to each color channel, or set channel_axis.\n",
      "  return func(*args, **kwargs)\n"
     ]
    },
    {
     "name": "stdout",
     "output_type": "stream",
     "text": [
      "the number of segments for image1: 83\n",
      "the number of segments for rescaled image1: 81\n",
      "the number of segments for equalized image1: 93\n",
      "the number of segments for blured image1: 72\n",
      "the number of segments for Gamma corrected image1: 77\n",
      "********************\n",
      "the number of segments for image2: 81\n",
      "the number of segments for rescaled image2: 89\n",
      "the number of segments for equalized image2: 92\n",
      "the number of segments for blured image2: 56\n",
      "the number of segments for Gamma corrected image2: 81\n",
      "********************\n",
      "the number of segments for image1 after thresholding #1: 31\n",
      "the number of segments for image1 after thresholding #2: 74\n",
      "the number of segments for image2 after thresholding #1: 31\n",
      "the number of segments for image2 after thresholding #2: 69\n",
      "length of reference mask is: 31\n",
      "length of mask under evalurion 1 is: 31\n",
      "(512, 512)\n",
      "IoU Score: 0.21527154398563733\n",
      "25\n",
      "25\n"
     ]
    },
    {
     "name": "stderr",
     "output_type": "stream",
     "text": [
      "/home/dock/project_CD_jupyter/my_project_env/lib/python3.8/site-packages/skimage/_shared/utils.py:316: UserWarning: This might be a color image. The histogram will be computed on the flattened image. You can instead apply this function to each color channel, or set channel_axis.\n",
      "  return func(*args, **kwargs)\n"
     ]
    },
    {
     "name": "stdout",
     "output_type": "stream",
     "text": [
      "the number of segments for image1: 95\n",
      "the number of segments for rescaled image1: 127\n",
      "the number of segments for equalized image1: 147\n",
      "the number of segments for blured image1: 102\n",
      "the number of segments for Gamma corrected image1: 96\n",
      "********************\n",
      "the number of segments for image2: 98\n",
      "the number of segments for rescaled image2: 105\n",
      "the number of segments for equalized image2: 105\n",
      "the number of segments for blured image2: 80\n",
      "the number of segments for Gamma corrected image2: 98\n",
      "********************\n",
      "the number of segments for image1 after thresholding #1: 26\n",
      "the number of segments for image1 after thresholding #2: 88\n",
      "the number of segments for image2 after thresholding #1: 29\n",
      "the number of segments for image2 after thresholding #2: 90\n",
      "length of reference mask is: 26\n",
      "length of mask under evalurion 1 is: 29\n",
      "(512, 512)\n",
      "IoU Score: 0.06726849155503786\n",
      "4\n",
      "4\n"
     ]
    },
    {
     "name": "stderr",
     "output_type": "stream",
     "text": [
      "/home/dock/project_CD_jupyter/my_project_env/lib/python3.8/site-packages/skimage/_shared/utils.py:316: UserWarning: This might be a color image. The histogram will be computed on the flattened image. You can instead apply this function to each color channel, or set channel_axis.\n",
      "  return func(*args, **kwargs)\n"
     ]
    },
    {
     "name": "stdout",
     "output_type": "stream",
     "text": [
      "the number of segments for image1: 119\n",
      "the number of segments for rescaled image1: 133\n",
      "the number of segments for equalized image1: 145\n",
      "the number of segments for blured image1: 85\n",
      "the number of segments for Gamma corrected image1: 113\n",
      "********************\n",
      "the number of segments for image2: 144\n",
      "the number of segments for rescaled image2: 149\n",
      "the number of segments for equalized image2: 136\n",
      "the number of segments for blured image2: 121\n",
      "the number of segments for Gamma corrected image2: 144\n",
      "********************\n",
      "the number of segments for image1 after thresholding #1: 38\n",
      "the number of segments for image1 after thresholding #2: 108\n",
      "the number of segments for image2 after thresholding #1: 39\n",
      "the number of segments for image2 after thresholding #2: 134\n",
      "length of reference mask is: 38\n",
      "length of mask under evalurion 1 is: 39\n",
      "(512, 512)\n",
      "IoU Score: 0.13116032439176545\n",
      "3\n",
      "3\n"
     ]
    },
    {
     "name": "stderr",
     "output_type": "stream",
     "text": [
      "/home/dock/project_CD_jupyter/my_project_env/lib/python3.8/site-packages/skimage/_shared/utils.py:316: UserWarning: This might be a color image. The histogram will be computed on the flattened image. You can instead apply this function to each color channel, or set channel_axis.\n",
      "  return func(*args, **kwargs)\n"
     ]
    },
    {
     "name": "stdout",
     "output_type": "stream",
     "text": [
      "the number of segments for image1: 121\n",
      "the number of segments for rescaled image1: 111\n",
      "the number of segments for equalized image1: 128\n",
      "the number of segments for blured image1: 85\n",
      "the number of segments for Gamma corrected image1: 111\n",
      "********************\n",
      "the number of segments for image2: 158\n",
      "the number of segments for rescaled image2: 157\n",
      "the number of segments for equalized image2: 149\n",
      "the number of segments for blured image2: 136\n",
      "the number of segments for Gamma corrected image2: 158\n",
      "********************\n",
      "the number of segments for image1 after thresholding #1: 47\n",
      "the number of segments for image1 after thresholding #2: 109\n",
      "the number of segments for image2 after thresholding #1: 45\n",
      "the number of segments for image2 after thresholding #2: 146\n",
      "length of reference mask is: 47\n",
      "length of mask under evalurion 1 is: 45\n",
      "(512, 512)\n",
      "IoU Score: 0.1526516112661761\n",
      "42\n",
      "42\n"
     ]
    },
    {
     "name": "stderr",
     "output_type": "stream",
     "text": [
      "/home/dock/project_CD_jupyter/my_project_env/lib/python3.8/site-packages/skimage/_shared/utils.py:316: UserWarning: This might be a color image. The histogram will be computed on the flattened image. You can instead apply this function to each color channel, or set channel_axis.\n",
      "  return func(*args, **kwargs)\n"
     ]
    },
    {
     "name": "stdout",
     "output_type": "stream",
     "text": [
      "the number of segments for image1: 78\n",
      "the number of segments for rescaled image1: 87\n",
      "the number of segments for equalized image1: 95\n",
      "the number of segments for blured image1: 66\n",
      "the number of segments for Gamma corrected image1: 70\n",
      "********************\n",
      "the number of segments for image2: 127\n",
      "the number of segments for rescaled image2: 139\n",
      "the number of segments for equalized image2: 124\n",
      "the number of segments for blured image2: 82\n",
      "the number of segments for Gamma corrected image2: 127\n",
      "********************\n",
      "the number of segments for image1 after thresholding #1: 31\n",
      "the number of segments for image1 after thresholding #2: 73\n",
      "the number of segments for image2 after thresholding #1: 38\n",
      "the number of segments for image2 after thresholding #2: 114\n",
      "length of reference mask is: 31\n",
      "length of mask under evalurion 1 is: 38\n",
      "(512, 512)\n",
      "IoU Score: 0.16681452691760665\n",
      "45\n",
      "45\n"
     ]
    },
    {
     "name": "stderr",
     "output_type": "stream",
     "text": [
      "/home/dock/project_CD_jupyter/my_project_env/lib/python3.8/site-packages/skimage/_shared/utils.py:316: UserWarning: This might be a color image. The histogram will be computed on the flattened image. You can instead apply this function to each color channel, or set channel_axis.\n",
      "  return func(*args, **kwargs)\n"
     ]
    },
    {
     "name": "stdout",
     "output_type": "stream",
     "text": [
      "the number of segments for image1: 128\n",
      "the number of segments for rescaled image1: 132\n",
      "the number of segments for equalized image1: 146\n",
      "the number of segments for blured image1: 77\n",
      "the number of segments for Gamma corrected image1: 125\n",
      "********************\n",
      "the number of segments for image2: 115\n",
      "the number of segments for rescaled image2: 129\n",
      "the number of segments for equalized image2: 119\n",
      "the number of segments for blured image2: 90\n",
      "the number of segments for Gamma corrected image2: 115\n",
      "********************\n",
      "the number of segments for image1 after thresholding #1: 37\n",
      "the number of segments for image1 after thresholding #2: 117\n",
      "the number of segments for image2 after thresholding #1: 29\n",
      "the number of segments for image2 after thresholding #2: 108\n",
      "length of reference mask is: 37\n",
      "length of mask under evalurion 1 is: 29\n",
      "(512, 512)\n",
      "IoU Score: 0.07453243236403209\n",
      "16\n",
      "16\n"
     ]
    },
    {
     "name": "stderr",
     "output_type": "stream",
     "text": [
      "/home/dock/project_CD_jupyter/my_project_env/lib/python3.8/site-packages/skimage/_shared/utils.py:316: UserWarning: This might be a color image. The histogram will be computed on the flattened image. You can instead apply this function to each color channel, or set channel_axis.\n",
      "  return func(*args, **kwargs)\n"
     ]
    },
    {
     "name": "stdout",
     "output_type": "stream",
     "text": [
      "the number of segments for image1: 49\n",
      "the number of segments for rescaled image1: 63\n",
      "the number of segments for equalized image1: 63\n",
      "the number of segments for blured image1: 55\n",
      "the number of segments for Gamma corrected image1: 50\n",
      "********************\n",
      "the number of segments for image2: 139\n",
      "the number of segments for rescaled image2: 163\n",
      "the number of segments for equalized image2: 153\n",
      "the number of segments for blured image2: 85\n",
      "the number of segments for Gamma corrected image2: 139\n",
      "********************\n",
      "the number of segments for image1 after thresholding #1: 15\n",
      "the number of segments for image1 after thresholding #2: 45\n",
      "the number of segments for image2 after thresholding #1: 29\n",
      "the number of segments for image2 after thresholding #2: 135\n",
      "length of reference mask is: 15\n",
      "length of mask under evalurion 1 is: 29\n",
      "(512, 512)\n",
      "IoU Score: 0.09205298013245033\n",
      "44\n",
      "44\n"
     ]
    },
    {
     "name": "stderr",
     "output_type": "stream",
     "text": [
      "/home/dock/project_CD_jupyter/my_project_env/lib/python3.8/site-packages/skimage/_shared/utils.py:316: UserWarning: This might be a color image. The histogram will be computed on the flattened image. You can instead apply this function to each color channel, or set channel_axis.\n",
      "  return func(*args, **kwargs)\n"
     ]
    },
    {
     "name": "stdout",
     "output_type": "stream",
     "text": [
      "the number of segments for image1: 79\n",
      "the number of segments for rescaled image1: 100\n",
      "the number of segments for equalized image1: 99\n",
      "the number of segments for blured image1: 75\n",
      "the number of segments for Gamma corrected image1: 69\n",
      "********************\n",
      "the number of segments for image2: 109\n",
      "the number of segments for rescaled image2: 109\n",
      "the number of segments for equalized image2: 117\n",
      "the number of segments for blured image2: 88\n",
      "the number of segments for Gamma corrected image2: 109\n",
      "********************\n",
      "the number of segments for image1 after thresholding #1: 29\n",
      "the number of segments for image1 after thresholding #2: 70\n",
      "the number of segments for image2 after thresholding #1: 26\n",
      "the number of segments for image2 after thresholding #2: 101\n",
      "length of reference mask is: 29\n",
      "length of mask under evalurion 1 is: 26\n",
      "(512, 512)\n",
      "IoU Score: 0.08034449908597029\n",
      "5\n",
      "5\n"
     ]
    },
    {
     "name": "stderr",
     "output_type": "stream",
     "text": [
      "/home/dock/project_CD_jupyter/my_project_env/lib/python3.8/site-packages/skimage/_shared/utils.py:316: UserWarning: This might be a color image. The histogram will be computed on the flattened image. You can instead apply this function to each color channel, or set channel_axis.\n",
      "  return func(*args, **kwargs)\n"
     ]
    },
    {
     "name": "stdout",
     "output_type": "stream",
     "text": [
      "the number of segments for image1: 96\n",
      "the number of segments for rescaled image1: 110\n",
      "the number of segments for equalized image1: 136\n",
      "the number of segments for blured image1: 98\n",
      "the number of segments for Gamma corrected image1: 95\n",
      "********************\n",
      "the number of segments for image2: 87\n",
      "the number of segments for rescaled image2: 97\n",
      "the number of segments for equalized image2: 94\n",
      "the number of segments for blured image2: 70\n",
      "the number of segments for Gamma corrected image2: 87\n",
      "********************\n",
      "the number of segments for image1 after thresholding #1: 26\n",
      "the number of segments for image1 after thresholding #2: 88\n",
      "the number of segments for image2 after thresholding #1: 15\n",
      "the number of segments for image2 after thresholding #2: 84\n",
      "length of reference mask is: 26\n",
      "length of mask under evalurion 1 is: 15\n",
      "(512, 512)\n",
      "IoU Score: 0.14343864681317756\n",
      "11\n",
      "11\n"
     ]
    },
    {
     "name": "stderr",
     "output_type": "stream",
     "text": [
      "/home/dock/project_CD_jupyter/my_project_env/lib/python3.8/site-packages/skimage/_shared/utils.py:316: UserWarning: This might be a color image. The histogram will be computed on the flattened image. You can instead apply this function to each color channel, or set channel_axis.\n",
      "  return func(*args, **kwargs)\n"
     ]
    },
    {
     "name": "stdout",
     "output_type": "stream",
     "text": [
      "the number of segments for image1: 111\n",
      "the number of segments for rescaled image1: 120\n",
      "the number of segments for equalized image1: 122\n",
      "the number of segments for blured image1: 95\n",
      "the number of segments for Gamma corrected image1: 111\n",
      "********************\n",
      "the number of segments for image2: 125\n",
      "the number of segments for rescaled image2: 126\n",
      "the number of segments for equalized image2: 118\n",
      "the number of segments for blured image2: 98\n",
      "the number of segments for Gamma corrected image2: 125\n",
      "********************\n",
      "the number of segments for image1 after thresholding #1: 25\n",
      "the number of segments for image1 after thresholding #2: 102\n",
      "the number of segments for image2 after thresholding #1: 35\n",
      "the number of segments for image2 after thresholding #2: 114\n",
      "length of reference mask is: 25\n",
      "length of mask under evalurion 1 is: 35\n",
      "(512, 512)\n",
      "IoU Score: 0.1159750793464206\n",
      "36\n",
      "36\n"
     ]
    },
    {
     "name": "stderr",
     "output_type": "stream",
     "text": [
      "/home/dock/project_CD_jupyter/my_project_env/lib/python3.8/site-packages/skimage/_shared/utils.py:316: UserWarning: This might be a color image. The histogram will be computed on the flattened image. You can instead apply this function to each color channel, or set channel_axis.\n",
      "  return func(*args, **kwargs)\n"
     ]
    },
    {
     "name": "stdout",
     "output_type": "stream",
     "text": [
      "the number of segments for image1: 91\n",
      "the number of segments for rescaled image1: 115\n",
      "the number of segments for equalized image1: 137\n",
      "the number of segments for blured image1: 96\n",
      "the number of segments for Gamma corrected image1: 89\n",
      "********************\n",
      "the number of segments for image2: 138\n",
      "the number of segments for rescaled image2: 166\n",
      "the number of segments for equalized image2: 157\n",
      "the number of segments for blured image2: 115\n",
      "the number of segments for Gamma corrected image2: 138\n",
      "********************\n",
      "the number of segments for image1 after thresholding #1: 39\n",
      "the number of segments for image1 after thresholding #2: 85\n",
      "the number of segments for image2 after thresholding #1: 49\n",
      "the number of segments for image2 after thresholding #2: 132\n",
      "length of reference mask is: 39\n",
      "length of mask under evalurion 1 is: 49\n",
      "(512, 512)\n",
      "IoU Score: 0.20362507297914123\n",
      "47\n",
      "47\n"
     ]
    },
    {
     "name": "stderr",
     "output_type": "stream",
     "text": [
      "/home/dock/project_CD_jupyter/my_project_env/lib/python3.8/site-packages/skimage/_shared/utils.py:316: UserWarning: This might be a color image. The histogram will be computed on the flattened image. You can instead apply this function to each color channel, or set channel_axis.\n",
      "  return func(*args, **kwargs)\n"
     ]
    },
    {
     "name": "stdout",
     "output_type": "stream",
     "text": [
      "the number of segments for image1: 127\n",
      "the number of segments for rescaled image1: 138\n",
      "the number of segments for equalized image1: 127\n",
      "the number of segments for blured image1: 120\n",
      "the number of segments for Gamma corrected image1: 122\n",
      "********************\n",
      "the number of segments for image2: 123\n",
      "the number of segments for rescaled image2: 138\n",
      "the number of segments for equalized image2: 137\n",
      "the number of segments for blured image2: 108\n",
      "the number of segments for Gamma corrected image2: 123\n",
      "********************\n",
      "the number of segments for image1 after thresholding #1: 30\n",
      "the number of segments for image1 after thresholding #2: 122\n",
      "the number of segments for image2 after thresholding #1: 36\n",
      "the number of segments for image2 after thresholding #2: 112\n",
      "length of reference mask is: 30\n",
      "length of mask under evalurion 1 is: 36\n",
      "(512, 512)\n",
      "IoU Score: 0.1557821319029145\n",
      "43\n",
      "43\n"
     ]
    },
    {
     "name": "stderr",
     "output_type": "stream",
     "text": [
      "/home/dock/project_CD_jupyter/my_project_env/lib/python3.8/site-packages/skimage/_shared/utils.py:316: UserWarning: This might be a color image. The histogram will be computed on the flattened image. You can instead apply this function to each color channel, or set channel_axis.\n",
      "  return func(*args, **kwargs)\n"
     ]
    },
    {
     "name": "stdout",
     "output_type": "stream",
     "text": [
      "the number of segments for image1: 72\n",
      "the number of segments for rescaled image1: 83\n",
      "the number of segments for equalized image1: 82\n",
      "the number of segments for blured image1: 68\n",
      "the number of segments for Gamma corrected image1: 64\n",
      "********************\n",
      "the number of segments for image2: 115\n",
      "the number of segments for rescaled image2: 126\n",
      "the number of segments for equalized image2: 125\n",
      "the number of segments for blured image2: 103\n",
      "the number of segments for Gamma corrected image2: 115\n",
      "********************\n",
      "the number of segments for image1 after thresholding #1: 24\n",
      "the number of segments for image1 after thresholding #2: 68\n",
      "the number of segments for image2 after thresholding #1: 40\n",
      "the number of segments for image2 after thresholding #2: 99\n",
      "length of reference mask is: 24\n",
      "length of mask under evalurion 1 is: 40\n",
      "(512, 512)\n",
      "IoU Score: 0.20384006606565275\n",
      "8\n",
      "8\n"
     ]
    },
    {
     "name": "stderr",
     "output_type": "stream",
     "text": [
      "/home/dock/project_CD_jupyter/my_project_env/lib/python3.8/site-packages/skimage/_shared/utils.py:316: UserWarning: This might be a color image. The histogram will be computed on the flattened image. You can instead apply this function to each color channel, or set channel_axis.\n",
      "  return func(*args, **kwargs)\n"
     ]
    },
    {
     "name": "stdout",
     "output_type": "stream",
     "text": [
      "the number of segments for image1: 58\n",
      "the number of segments for rescaled image1: 61\n",
      "the number of segments for equalized image1: 61\n",
      "the number of segments for blured image1: 47\n",
      "the number of segments for Gamma corrected image1: 60\n",
      "********************\n",
      "the number of segments for image2: 118\n",
      "the number of segments for rescaled image2: 110\n",
      "the number of segments for equalized image2: 119\n",
      "the number of segments for blured image2: 91\n",
      "the number of segments for Gamma corrected image2: 118\n",
      "********************\n",
      "the number of segments for image1 after thresholding #1: 15\n",
      "the number of segments for image1 after thresholding #2: 52\n",
      "the number of segments for image2 after thresholding #1: 41\n",
      "the number of segments for image2 after thresholding #2: 109\n",
      "length of reference mask is: 15\n",
      "length of mask under evalurion 1 is: 41\n",
      "(512, 512)\n",
      "IoU Score: 0.11111977542108546\n",
      "33\n",
      "33\n"
     ]
    },
    {
     "name": "stderr",
     "output_type": "stream",
     "text": [
      "/home/dock/project_CD_jupyter/my_project_env/lib/python3.8/site-packages/skimage/_shared/utils.py:316: UserWarning: This might be a color image. The histogram will be computed on the flattened image. You can instead apply this function to each color channel, or set channel_axis.\n",
      "  return func(*args, **kwargs)\n"
     ]
    },
    {
     "name": "stdout",
     "output_type": "stream",
     "text": [
      "the number of segments for image1: 101\n",
      "the number of segments for rescaled image1: 125\n",
      "the number of segments for equalized image1: 116\n",
      "the number of segments for blured image1: 80\n",
      "the number of segments for Gamma corrected image1: 88\n",
      "********************\n",
      "the number of segments for image2: 142\n",
      "the number of segments for rescaled image2: 141\n",
      "the number of segments for equalized image2: 123\n",
      "the number of segments for blured image2: 115\n",
      "the number of segments for Gamma corrected image2: 142\n",
      "********************\n",
      "the number of segments for image1 after thresholding #1: 25\n",
      "the number of segments for image1 after thresholding #2: 96\n",
      "the number of segments for image2 after thresholding #1: 43\n",
      "the number of segments for image2 after thresholding #2: 122\n",
      "length of reference mask is: 25\n",
      "length of mask under evalurion 1 is: 43\n",
      "(512, 512)\n",
      "IoU Score: 0.1441212377114638\n",
      "13\n",
      "13\n"
     ]
    },
    {
     "name": "stderr",
     "output_type": "stream",
     "text": [
      "/home/dock/project_CD_jupyter/my_project_env/lib/python3.8/site-packages/skimage/_shared/utils.py:316: UserWarning: This might be a color image. The histogram will be computed on the flattened image. You can instead apply this function to each color channel, or set channel_axis.\n",
      "  return func(*args, **kwargs)\n"
     ]
    },
    {
     "name": "stdout",
     "output_type": "stream",
     "text": [
      "the number of segments for image1: 80\n",
      "the number of segments for rescaled image1: 94\n",
      "the number of segments for equalized image1: 128\n",
      "the number of segments for blured image1: 74\n",
      "the number of segments for Gamma corrected image1: 81\n",
      "********************\n",
      "the number of segments for image2: 107\n",
      "the number of segments for rescaled image2: 108\n",
      "the number of segments for equalized image2: 100\n",
      "the number of segments for blured image2: 100\n",
      "the number of segments for Gamma corrected image2: 107\n",
      "********************\n",
      "the number of segments for image1 after thresholding #1: 28\n",
      "the number of segments for image1 after thresholding #2: 73\n",
      "the number of segments for image2 after thresholding #1: 28\n",
      "the number of segments for image2 after thresholding #2: 102\n",
      "length of reference mask is: 28\n",
      "length of mask under evalurion 1 is: 28\n",
      "(512, 512)\n",
      "IoU Score: 0.21636163575978437\n",
      "22\n",
      "22\n"
     ]
    },
    {
     "name": "stderr",
     "output_type": "stream",
     "text": [
      "/home/dock/project_CD_jupyter/my_project_env/lib/python3.8/site-packages/skimage/_shared/utils.py:316: UserWarning: This might be a color image. The histogram will be computed on the flattened image. You can instead apply this function to each color channel, or set channel_axis.\n",
      "  return func(*args, **kwargs)\n"
     ]
    },
    {
     "name": "stdout",
     "output_type": "stream",
     "text": [
      "the number of segments for image1: 110\n",
      "the number of segments for rescaled image1: 127\n",
      "the number of segments for equalized image1: 133\n",
      "the number of segments for blured image1: 96\n",
      "the number of segments for Gamma corrected image1: 107\n",
      "********************\n",
      "the number of segments for image2: 146\n",
      "the number of segments for rescaled image2: 153\n",
      "the number of segments for equalized image2: 144\n",
      "the number of segments for blured image2: 121\n",
      "the number of segments for Gamma corrected image2: 146\n",
      "********************\n",
      "the number of segments for image1 after thresholding #1: 32\n",
      "the number of segments for image1 after thresholding #2: 98\n",
      "the number of segments for image2 after thresholding #1: 46\n",
      "the number of segments for image2 after thresholding #2: 137\n",
      "length of reference mask is: 32\n",
      "length of mask under evalurion 1 is: 46\n",
      "(512, 512)\n",
      "IoU Score: 0.25976246339644604\n",
      "46\n",
      "46\n"
     ]
    },
    {
     "name": "stderr",
     "output_type": "stream",
     "text": [
      "/home/dock/project_CD_jupyter/my_project_env/lib/python3.8/site-packages/skimage/_shared/utils.py:316: UserWarning: This might be a color image. The histogram will be computed on the flattened image. You can instead apply this function to each color channel, or set channel_axis.\n",
      "  return func(*args, **kwargs)\n"
     ]
    },
    {
     "name": "stdout",
     "output_type": "stream",
     "text": [
      "the number of segments for image1: 128\n",
      "the number of segments for rescaled image1: 136\n",
      "the number of segments for equalized image1: 141\n",
      "the number of segments for blured image1: 92\n",
      "the number of segments for Gamma corrected image1: 124\n",
      "********************\n",
      "the number of segments for image2: 62\n",
      "the number of segments for rescaled image2: 87\n",
      "the number of segments for equalized image2: 80\n",
      "the number of segments for blured image2: 69\n",
      "the number of segments for Gamma corrected image2: 62\n",
      "********************\n",
      "the number of segments for image1 after thresholding #1: 36\n",
      "the number of segments for image1 after thresholding #2: 121\n",
      "the number of segments for image2 after thresholding #1: 17\n",
      "the number of segments for image2 after thresholding #2: 56\n",
      "length of reference mask is: 36\n",
      "length of mask under evalurion 1 is: 17\n",
      "(512, 512)\n",
      "IoU Score: 0.06017930383652136\n",
      "19\n",
      "19\n"
     ]
    },
    {
     "name": "stderr",
     "output_type": "stream",
     "text": [
      "/home/dock/project_CD_jupyter/my_project_env/lib/python3.8/site-packages/skimage/_shared/utils.py:316: UserWarning: This might be a color image. The histogram will be computed on the flattened image. You can instead apply this function to each color channel, or set channel_axis.\n",
      "  return func(*args, **kwargs)\n"
     ]
    },
    {
     "name": "stdout",
     "output_type": "stream",
     "text": [
      "the number of segments for image1: 104\n",
      "the number of segments for rescaled image1: 104\n",
      "the number of segments for equalized image1: 122\n",
      "the number of segments for blured image1: 66\n",
      "the number of segments for Gamma corrected image1: 104\n",
      "********************\n",
      "the number of segments for image2: 76\n",
      "the number of segments for rescaled image2: 88\n",
      "the number of segments for equalized image2: 86\n",
      "the number of segments for blured image2: 67\n",
      "the number of segments for Gamma corrected image2: 76\n",
      "********************\n",
      "the number of segments for image1 after thresholding #1: 25\n",
      "the number of segments for image1 after thresholding #2: 96\n",
      "the number of segments for image2 after thresholding #1: 22\n",
      "the number of segments for image2 after thresholding #2: 68\n",
      "length of reference mask is: 25\n",
      "length of mask under evalurion 1 is: 22\n",
      "(512, 512)\n",
      "IoU Score: 0.151483830553598\n",
      "26\n",
      "26\n"
     ]
    },
    {
     "name": "stderr",
     "output_type": "stream",
     "text": [
      "/home/dock/project_CD_jupyter/my_project_env/lib/python3.8/site-packages/skimage/_shared/utils.py:316: UserWarning: This might be a color image. The histogram will be computed on the flattened image. You can instead apply this function to each color channel, or set channel_axis.\n",
      "  return func(*args, **kwargs)\n"
     ]
    },
    {
     "name": "stdout",
     "output_type": "stream",
     "text": [
      "the number of segments for image1: 99\n",
      "the number of segments for rescaled image1: 109\n",
      "the number of segments for equalized image1: 126\n",
      "the number of segments for blured image1: 100\n",
      "the number of segments for Gamma corrected image1: 92\n",
      "********************\n",
      "the number of segments for image2: 104\n",
      "the number of segments for rescaled image2: 100\n",
      "the number of segments for equalized image2: 105\n",
      "the number of segments for blured image2: 80\n",
      "the number of segments for Gamma corrected image2: 104\n",
      "********************\n",
      "the number of segments for image1 after thresholding #1: 35\n",
      "the number of segments for image1 after thresholding #2: 87\n",
      "the number of segments for image2 after thresholding #1: 37\n",
      "the number of segments for image2 after thresholding #2: 95\n",
      "length of reference mask is: 35\n",
      "length of mask under evalurion 1 is: 37\n",
      "(512, 512)\n",
      "IoU Score: 0.1881397263252722\n",
      "6\n",
      "6\n"
     ]
    },
    {
     "name": "stderr",
     "output_type": "stream",
     "text": [
      "/home/dock/project_CD_jupyter/my_project_env/lib/python3.8/site-packages/skimage/_shared/utils.py:316: UserWarning: This might be a color image. The histogram will be computed on the flattened image. You can instead apply this function to each color channel, or set channel_axis.\n",
      "  return func(*args, **kwargs)\n"
     ]
    },
    {
     "name": "stdout",
     "output_type": "stream",
     "text": [
      "the number of segments for image1: 88\n",
      "the number of segments for rescaled image1: 109\n",
      "the number of segments for equalized image1: 104\n",
      "the number of segments for blured image1: 90\n",
      "the number of segments for Gamma corrected image1: 88\n",
      "********************\n",
      "the number of segments for image2: 116\n",
      "the number of segments for rescaled image2: 118\n",
      "the number of segments for equalized image2: 109\n",
      "the number of segments for blured image2: 94\n",
      "the number of segments for Gamma corrected image2: 116\n",
      "********************\n",
      "the number of segments for image1 after thresholding #1: 17\n",
      "the number of segments for image1 after thresholding #2: 85\n",
      "the number of segments for image2 after thresholding #1: 26\n",
      "the number of segments for image2 after thresholding #2: 110\n",
      "length of reference mask is: 17\n",
      "length of mask under evalurion 1 is: 26\n",
      "(512, 512)\n",
      "IoU Score: 0.14713133499180062\n",
      "37\n",
      "37\n"
     ]
    },
    {
     "name": "stderr",
     "output_type": "stream",
     "text": [
      "/home/dock/project_CD_jupyter/my_project_env/lib/python3.8/site-packages/skimage/_shared/utils.py:316: UserWarning: This might be a color image. The histogram will be computed on the flattened image. You can instead apply this function to each color channel, or set channel_axis.\n",
      "  return func(*args, **kwargs)\n"
     ]
    },
    {
     "name": "stdout",
     "output_type": "stream",
     "text": [
      "the number of segments for image1: 80\n",
      "the number of segments for rescaled image1: 92\n",
      "the number of segments for equalized image1: 111\n",
      "the number of segments for blured image1: 62\n",
      "the number of segments for Gamma corrected image1: 83\n",
      "********************\n",
      "the number of segments for image2: 117\n",
      "the number of segments for rescaled image2: 146\n",
      "the number of segments for equalized image2: 143\n",
      "the number of segments for blured image2: 82\n",
      "the number of segments for Gamma corrected image2: 117\n",
      "********************\n",
      "the number of segments for image1 after thresholding #1: 27\n",
      "the number of segments for image1 after thresholding #2: 76\n",
      "the number of segments for image2 after thresholding #1: 36\n",
      "the number of segments for image2 after thresholding #2: 108\n",
      "length of reference mask is: 27\n",
      "length of mask under evalurion 1 is: 36\n",
      "(512, 512)\n",
      "IoU Score: 0.1921175501235924\n",
      "27\n",
      "27\n"
     ]
    },
    {
     "name": "stderr",
     "output_type": "stream",
     "text": [
      "/home/dock/project_CD_jupyter/my_project_env/lib/python3.8/site-packages/skimage/_shared/utils.py:316: UserWarning: This might be a color image. The histogram will be computed on the flattened image. You can instead apply this function to each color channel, or set channel_axis.\n",
      "  return func(*args, **kwargs)\n"
     ]
    },
    {
     "name": "stdout",
     "output_type": "stream",
     "text": [
      "the number of segments for image1: 99\n",
      "the number of segments for rescaled image1: 119\n",
      "the number of segments for equalized image1: 127\n",
      "the number of segments for blured image1: 91\n",
      "the number of segments for Gamma corrected image1: 94\n",
      "********************\n",
      "the number of segments for image2: 114\n",
      "the number of segments for rescaled image2: 125\n",
      "the number of segments for equalized image2: 113\n",
      "the number of segments for blured image2: 93\n",
      "the number of segments for Gamma corrected image2: 114\n",
      "********************\n",
      "the number of segments for image1 after thresholding #1: 32\n",
      "the number of segments for image1 after thresholding #2: 91\n",
      "the number of segments for image2 after thresholding #1: 43\n",
      "the number of segments for image2 after thresholding #2: 104\n",
      "length of reference mask is: 32\n",
      "length of mask under evalurion 1 is: 43\n",
      "(512, 512)\n",
      "IoU Score: 0.2435664272074202\n",
      "24\n",
      "24\n"
     ]
    },
    {
     "name": "stderr",
     "output_type": "stream",
     "text": [
      "/home/dock/project_CD_jupyter/my_project_env/lib/python3.8/site-packages/skimage/_shared/utils.py:316: UserWarning: This might be a color image. The histogram will be computed on the flattened image. You can instead apply this function to each color channel, or set channel_axis.\n",
      "  return func(*args, **kwargs)\n"
     ]
    },
    {
     "name": "stdout",
     "output_type": "stream",
     "text": [
      "the number of segments for image1: 134\n",
      "the number of segments for rescaled image1: 136\n",
      "the number of segments for equalized image1: 152\n",
      "the number of segments for blured image1: 97\n",
      "the number of segments for Gamma corrected image1: 134\n",
      "********************\n",
      "the number of segments for image2: 116\n",
      "the number of segments for rescaled image2: 122\n",
      "the number of segments for equalized image2: 108\n",
      "the number of segments for blured image2: 81\n",
      "the number of segments for Gamma corrected image2: 116\n",
      "********************\n",
      "the number of segments for image1 after thresholding #1: 34\n",
      "the number of segments for image1 after thresholding #2: 124\n",
      "the number of segments for image2 after thresholding #1: 22\n",
      "the number of segments for image2 after thresholding #2: 113\n",
      "length of reference mask is: 34\n",
      "length of mask under evalurion 1 is: 22\n",
      "(512, 512)\n",
      "IoU Score: 0.18441892694515938\n",
      "17\n",
      "17\n"
     ]
    },
    {
     "name": "stderr",
     "output_type": "stream",
     "text": [
      "/home/dock/project_CD_jupyter/my_project_env/lib/python3.8/site-packages/skimage/_shared/utils.py:316: UserWarning: This might be a color image. The histogram will be computed on the flattened image. You can instead apply this function to each color channel, or set channel_axis.\n",
      "  return func(*args, **kwargs)\n"
     ]
    },
    {
     "name": "stdout",
     "output_type": "stream",
     "text": [
      "the number of segments for image1: 78\n",
      "the number of segments for rescaled image1: 89\n",
      "the number of segments for equalized image1: 96\n",
      "the number of segments for blured image1: 78\n",
      "the number of segments for Gamma corrected image1: 79\n",
      "********************\n",
      "the number of segments for image2: 82\n",
      "the number of segments for rescaled image2: 110\n",
      "the number of segments for equalized image2: 94\n",
      "the number of segments for blured image2: 75\n",
      "the number of segments for Gamma corrected image2: 82\n",
      "********************\n",
      "the number of segments for image1 after thresholding #1: 12\n",
      "the number of segments for image1 after thresholding #2: 75\n",
      "the number of segments for image2 after thresholding #1: 29\n",
      "the number of segments for image2 after thresholding #2: 75\n",
      "length of reference mask is: 12\n",
      "length of mask under evalurion 1 is: 29\n",
      "(512, 512)\n",
      "IoU Score: 0.1305369245768386\n",
      "23\n",
      "23\n"
     ]
    },
    {
     "name": "stderr",
     "output_type": "stream",
     "text": [
      "/home/dock/project_CD_jupyter/my_project_env/lib/python3.8/site-packages/skimage/_shared/utils.py:316: UserWarning: This might be a color image. The histogram will be computed on the flattened image. You can instead apply this function to each color channel, or set channel_axis.\n",
      "  return func(*args, **kwargs)\n"
     ]
    },
    {
     "name": "stdout",
     "output_type": "stream",
     "text": [
      "the number of segments for image1: 140\n",
      "the number of segments for rescaled image1: 160\n",
      "the number of segments for equalized image1: 161\n",
      "the number of segments for blured image1: 116\n",
      "the number of segments for Gamma corrected image1: 136\n",
      "********************\n",
      "the number of segments for image2: 190\n",
      "the number of segments for rescaled image2: 206\n",
      "the number of segments for equalized image2: 200\n",
      "the number of segments for blured image2: 171\n",
      "the number of segments for Gamma corrected image2: 190\n",
      "********************\n",
      "the number of segments for image1 after thresholding #1: 36\n",
      "the number of segments for image1 after thresholding #2: 133\n",
      "the number of segments for image2 after thresholding #1: 30\n",
      "the number of segments for image2 after thresholding #2: 187\n",
      "length of reference mask is: 36\n",
      "length of mask under evalurion 1 is: 30\n",
      "(512, 512)\n",
      "IoU Score: 0.1027440122883204\n",
      "28\n",
      "28\n"
     ]
    },
    {
     "name": "stderr",
     "output_type": "stream",
     "text": [
      "/home/dock/project_CD_jupyter/my_project_env/lib/python3.8/site-packages/skimage/_shared/utils.py:316: UserWarning: This might be a color image. The histogram will be computed on the flattened image. You can instead apply this function to each color channel, or set channel_axis.\n",
      "  return func(*args, **kwargs)\n"
     ]
    },
    {
     "name": "stdout",
     "output_type": "stream",
     "text": [
      "the number of segments for image1: 109\n",
      "the number of segments for rescaled image1: 135\n",
      "the number of segments for equalized image1: 162\n",
      "the number of segments for blured image1: 96\n",
      "the number of segments for Gamma corrected image1: 99\n",
      "********************\n",
      "the number of segments for image2: 96\n",
      "the number of segments for rescaled image2: 97\n",
      "the number of segments for equalized image2: 99\n",
      "the number of segments for blured image2: 72\n",
      "the number of segments for Gamma corrected image2: 96\n",
      "********************\n",
      "the number of segments for image1 after thresholding #1: 27\n",
      "the number of segments for image1 after thresholding #2: 102\n",
      "the number of segments for image2 after thresholding #1: 27\n",
      "the number of segments for image2 after thresholding #2: 89\n",
      "length of reference mask is: 27\n",
      "length of mask under evalurion 1 is: 27\n",
      "(512, 512)\n",
      "IoU Score: 0.1337062150423398\n",
      "34\n",
      "34\n"
     ]
    },
    {
     "name": "stderr",
     "output_type": "stream",
     "text": [
      "/home/dock/project_CD_jupyter/my_project_env/lib/python3.8/site-packages/skimage/_shared/utils.py:316: UserWarning: This might be a color image. The histogram will be computed on the flattened image. You can instead apply this function to each color channel, or set channel_axis.\n",
      "  return func(*args, **kwargs)\n"
     ]
    },
    {
     "name": "stdout",
     "output_type": "stream",
     "text": [
      "the number of segments for image1: 62\n",
      "the number of segments for rescaled image1: 75\n",
      "the number of segments for equalized image1: 103\n",
      "the number of segments for blured image1: 44\n",
      "the number of segments for Gamma corrected image1: 56\n",
      "********************\n",
      "the number of segments for image2: 99\n",
      "the number of segments for rescaled image2: 91\n",
      "the number of segments for equalized image2: 89\n",
      "the number of segments for blured image2: 75\n",
      "the number of segments for Gamma corrected image2: 99\n",
      "********************\n",
      "the number of segments for image1 after thresholding #1: 15\n",
      "the number of segments for image1 after thresholding #2: 58\n",
      "the number of segments for image2 after thresholding #1: 28\n",
      "the number of segments for image2 after thresholding #2: 90\n",
      "length of reference mask is: 15\n",
      "length of mask under evalurion 1 is: 28\n",
      "(512, 512)\n",
      "IoU Score: 0.21964699277142255\n",
      "29\n",
      "29\n"
     ]
    },
    {
     "name": "stderr",
     "output_type": "stream",
     "text": [
      "/home/dock/project_CD_jupyter/my_project_env/lib/python3.8/site-packages/skimage/_shared/utils.py:316: UserWarning: This might be a color image. The histogram will be computed on the flattened image. You can instead apply this function to each color channel, or set channel_axis.\n",
      "  return func(*args, **kwargs)\n"
     ]
    },
    {
     "name": "stdout",
     "output_type": "stream",
     "text": [
      "the number of segments for image1: 99\n",
      "the number of segments for rescaled image1: 121\n",
      "the number of segments for equalized image1: 134\n",
      "the number of segments for blured image1: 88\n",
      "the number of segments for Gamma corrected image1: 94\n",
      "********************\n",
      "the number of segments for image2: 84\n",
      "the number of segments for rescaled image2: 108\n",
      "the number of segments for equalized image2: 93\n",
      "the number of segments for blured image2: 63\n",
      "the number of segments for Gamma corrected image2: 84\n",
      "********************\n",
      "the number of segments for image1 after thresholding #1: 28\n",
      "the number of segments for image1 after thresholding #2: 90\n",
      "the number of segments for image2 after thresholding #1: 27\n",
      "the number of segments for image2 after thresholding #2: 77\n",
      "length of reference mask is: 28\n",
      "length of mask under evalurion 1 is: 27\n",
      "(512, 512)\n",
      "IoU Score: 0.041193370165745855\n",
      "9\n",
      "9\n"
     ]
    },
    {
     "name": "stderr",
     "output_type": "stream",
     "text": [
      "/home/dock/project_CD_jupyter/my_project_env/lib/python3.8/site-packages/skimage/_shared/utils.py:316: UserWarning: This might be a color image. The histogram will be computed on the flattened image. You can instead apply this function to each color channel, or set channel_axis.\n",
      "  return func(*args, **kwargs)\n"
     ]
    },
    {
     "name": "stdout",
     "output_type": "stream",
     "text": [
      "the number of segments for image1: 91\n",
      "the number of segments for rescaled image1: 105\n",
      "the number of segments for equalized image1: 94\n",
      "the number of segments for blured image1: 66\n",
      "the number of segments for Gamma corrected image1: 82\n",
      "********************\n",
      "the number of segments for image2: 80\n",
      "the number of segments for rescaled image2: 99\n",
      "the number of segments for equalized image2: 78\n",
      "the number of segments for blured image2: 66\n",
      "the number of segments for Gamma corrected image2: 80\n",
      "********************\n",
      "the number of segments for image1 after thresholding #1: 22\n",
      "the number of segments for image1 after thresholding #2: 84\n",
      "the number of segments for image2 after thresholding #1: 19\n",
      "the number of segments for image2 after thresholding #2: 74\n",
      "length of reference mask is: 22\n",
      "length of mask under evalurion 1 is: 19\n",
      "(512, 512)\n",
      "IoU Score: 0.04428256996122\n",
      "14\n",
      "14\n"
     ]
    },
    {
     "name": "stderr",
     "output_type": "stream",
     "text": [
      "/home/dock/project_CD_jupyter/my_project_env/lib/python3.8/site-packages/skimage/_shared/utils.py:316: UserWarning: This might be a color image. The histogram will be computed on the flattened image. You can instead apply this function to each color channel, or set channel_axis.\n",
      "  return func(*args, **kwargs)\n"
     ]
    },
    {
     "name": "stdout",
     "output_type": "stream",
     "text": [
      "the number of segments for image1: 85\n",
      "the number of segments for rescaled image1: 80\n",
      "the number of segments for equalized image1: 87\n",
      "the number of segments for blured image1: 68\n",
      "the number of segments for Gamma corrected image1: 81\n",
      "********************\n",
      "the number of segments for image2: 100\n",
      "the number of segments for rescaled image2: 123\n",
      "the number of segments for equalized image2: 108\n",
      "the number of segments for blured image2: 75\n",
      "the number of segments for Gamma corrected image2: 100\n",
      "********************\n",
      "the number of segments for image1 after thresholding #1: 16\n",
      "the number of segments for image1 after thresholding #2: 83\n",
      "the number of segments for image2 after thresholding #1: 27\n",
      "the number of segments for image2 after thresholding #2: 94\n",
      "length of reference mask is: 16\n",
      "length of mask under evalurion 1 is: 27\n",
      "(512, 512)\n",
      "IoU Score: 0.1313264968574264\n",
      "18\n",
      "18\n"
     ]
    },
    {
     "name": "stderr",
     "output_type": "stream",
     "text": [
      "/home/dock/project_CD_jupyter/my_project_env/lib/python3.8/site-packages/skimage/_shared/utils.py:316: UserWarning: This might be a color image. The histogram will be computed on the flattened image. You can instead apply this function to each color channel, or set channel_axis.\n",
      "  return func(*args, **kwargs)\n"
     ]
    },
    {
     "name": "stdout",
     "output_type": "stream",
     "text": [
      "the number of segments for image1: 116\n",
      "the number of segments for rescaled image1: 118\n",
      "the number of segments for equalized image1: 145\n",
      "the number of segments for blured image1: 109\n",
      "the number of segments for Gamma corrected image1: 108\n",
      "********************\n",
      "the number of segments for image2: 70\n",
      "the number of segments for rescaled image2: 77\n",
      "the number of segments for equalized image2: 93\n",
      "the number of segments for blured image2: 56\n",
      "the number of segments for Gamma corrected image2: 70\n",
      "********************\n",
      "the number of segments for image1 after thresholding #1: 32\n",
      "the number of segments for image1 after thresholding #2: 104\n",
      "the number of segments for image2 after thresholding #1: 21\n",
      "the number of segments for image2 after thresholding #2: 60\n",
      "length of reference mask is: 32\n",
      "length of mask under evalurion 1 is: 21\n",
      "(512, 512)\n",
      "IoU Score: 0.10131621187800963\n",
      "38\n",
      "38\n"
     ]
    },
    {
     "name": "stderr",
     "output_type": "stream",
     "text": [
      "/home/dock/project_CD_jupyter/my_project_env/lib/python3.8/site-packages/skimage/_shared/utils.py:316: UserWarning: This might be a color image. The histogram will be computed on the flattened image. You can instead apply this function to each color channel, or set channel_axis.\n",
      "  return func(*args, **kwargs)\n"
     ]
    },
    {
     "name": "stdout",
     "output_type": "stream",
     "text": [
      "the number of segments for image1: 111\n",
      "the number of segments for rescaled image1: 129\n",
      "the number of segments for equalized image1: 154\n",
      "the number of segments for blured image1: 94\n",
      "the number of segments for Gamma corrected image1: 109\n",
      "********************\n",
      "the number of segments for image2: 144\n",
      "the number of segments for rescaled image2: 173\n",
      "the number of segments for equalized image2: 156\n",
      "the number of segments for blured image2: 115\n",
      "the number of segments for Gamma corrected image2: 144\n",
      "********************\n",
      "the number of segments for image1 after thresholding #1: 42\n",
      "the number of segments for image1 after thresholding #2: 100\n",
      "the number of segments for image2 after thresholding #1: 41\n",
      "the number of segments for image2 after thresholding #2: 137\n",
      "length of reference mask is: 42\n",
      "length of mask under evalurion 1 is: 41\n",
      "(512, 512)\n",
      "IoU Score: 0.11705065962155392\n",
      "21\n",
      "21\n"
     ]
    },
    {
     "name": "stderr",
     "output_type": "stream",
     "text": [
      "/home/dock/project_CD_jupyter/my_project_env/lib/python3.8/site-packages/skimage/_shared/utils.py:316: UserWarning: This might be a color image. The histogram will be computed on the flattened image. You can instead apply this function to each color channel, or set channel_axis.\n",
      "  return func(*args, **kwargs)\n"
     ]
    },
    {
     "name": "stdout",
     "output_type": "stream",
     "text": [
      "the number of segments for image1: 121\n",
      "the number of segments for rescaled image1: 120\n",
      "the number of segments for equalized image1: 118\n",
      "the number of segments for blured image1: 111\n",
      "the number of segments for Gamma corrected image1: 117\n",
      "********************\n",
      "the number of segments for image2: 107\n",
      "the number of segments for rescaled image2: 125\n",
      "the number of segments for equalized image2: 122\n",
      "the number of segments for blured image2: 88\n",
      "the number of segments for Gamma corrected image2: 107\n",
      "********************\n",
      "the number of segments for image1 after thresholding #1: 34\n",
      "the number of segments for image1 after thresholding #2: 110\n",
      "the number of segments for image2 after thresholding #1: 25\n",
      "the number of segments for image2 after thresholding #2: 101\n",
      "length of reference mask is: 34\n",
      "length of mask under evalurion 1 is: 25\n",
      "(512, 512)\n",
      "IoU Score: 0.09839541444306686\n",
      "20\n",
      "20\n"
     ]
    },
    {
     "name": "stderr",
     "output_type": "stream",
     "text": [
      "/home/dock/project_CD_jupyter/my_project_env/lib/python3.8/site-packages/skimage/_shared/utils.py:316: UserWarning: This might be a color image. The histogram will be computed on the flattened image. You can instead apply this function to each color channel, or set channel_axis.\n",
      "  return func(*args, **kwargs)\n"
     ]
    },
    {
     "name": "stdout",
     "output_type": "stream",
     "text": [
      "the number of segments for image1: 111\n",
      "the number of segments for rescaled image1: 125\n",
      "the number of segments for equalized image1: 118\n",
      "the number of segments for blured image1: 92\n",
      "the number of segments for Gamma corrected image1: 109\n",
      "********************\n",
      "the number of segments for image2: 139\n",
      "the number of segments for rescaled image2: 137\n",
      "the number of segments for equalized image2: 134\n",
      "the number of segments for blured image2: 90\n",
      "the number of segments for Gamma corrected image2: 139\n",
      "********************\n",
      "the number of segments for image1 after thresholding #1: 19\n",
      "the number of segments for image1 after thresholding #2: 105\n",
      "the number of segments for image2 after thresholding #1: 23\n",
      "the number of segments for image2 after thresholding #2: 135\n",
      "length of reference mask is: 19\n",
      "length of mask under evalurion 1 is: 23\n",
      "(512, 512)\n",
      "IoU Score: 0.14874149223064081\n",
      "1\n",
      "1\n"
     ]
    },
    {
     "name": "stderr",
     "output_type": "stream",
     "text": [
      "/home/dock/project_CD_jupyter/my_project_env/lib/python3.8/site-packages/skimage/_shared/utils.py:316: UserWarning: This might be a color image. The histogram will be computed on the flattened image. You can instead apply this function to each color channel, or set channel_axis.\n",
      "  return func(*args, **kwargs)\n"
     ]
    },
    {
     "name": "stdout",
     "output_type": "stream",
     "text": [
      "the number of segments for image1: 92\n",
      "the number of segments for rescaled image1: 107\n",
      "the number of segments for equalized image1: 111\n",
      "the number of segments for blured image1: 90\n",
      "the number of segments for Gamma corrected image1: 89\n",
      "********************\n",
      "the number of segments for image2: 121\n",
      "the number of segments for rescaled image2: 139\n",
      "the number of segments for equalized image2: 126\n",
      "the number of segments for blured image2: 87\n",
      "the number of segments for Gamma corrected image2: 121\n",
      "********************\n",
      "the number of segments for image1 after thresholding #1: 29\n",
      "the number of segments for image1 after thresholding #2: 83\n",
      "the number of segments for image2 after thresholding #1: 31\n",
      "the number of segments for image2 after thresholding #2: 110\n",
      "length of reference mask is: 29\n",
      "length of mask under evalurion 1 is: 31\n",
      "(512, 512)\n",
      "IoU Score: 0.09872405717515949\n",
      "2\n",
      "2\n"
     ]
    },
    {
     "name": "stderr",
     "output_type": "stream",
     "text": [
      "/home/dock/project_CD_jupyter/my_project_env/lib/python3.8/site-packages/skimage/_shared/utils.py:316: UserWarning: This might be a color image. The histogram will be computed on the flattened image. You can instead apply this function to each color channel, or set channel_axis.\n",
      "  return func(*args, **kwargs)\n"
     ]
    },
    {
     "name": "stdout",
     "output_type": "stream",
     "text": [
      "the number of segments for image1: 106\n",
      "the number of segments for rescaled image1: 107\n",
      "the number of segments for equalized image1: 123\n",
      "the number of segments for blured image1: 84\n",
      "the number of segments for Gamma corrected image1: 99\n",
      "********************\n",
      "the number of segments for image2: 109\n",
      "the number of segments for rescaled image2: 120\n",
      "the number of segments for equalized image2: 120\n",
      "the number of segments for blured image2: 94\n",
      "the number of segments for Gamma corrected image2: 109\n",
      "********************\n",
      "the number of segments for image1 after thresholding #1: 35\n",
      "the number of segments for image1 after thresholding #2: 96\n",
      "the number of segments for image2 after thresholding #1: 32\n",
      "the number of segments for image2 after thresholding #2: 101\n",
      "length of reference mask is: 35\n",
      "length of mask under evalurion 1 is: 32\n",
      "(512, 512)\n",
      "IoU Score: 0.06792149996352229\n",
      "12\n",
      "12\n"
     ]
    },
    {
     "name": "stderr",
     "output_type": "stream",
     "text": [
      "/home/dock/project_CD_jupyter/my_project_env/lib/python3.8/site-packages/skimage/_shared/utils.py:316: UserWarning: This might be a color image. The histogram will be computed on the flattened image. You can instead apply this function to each color channel, or set channel_axis.\n",
      "  return func(*args, **kwargs)\n"
     ]
    },
    {
     "name": "stdout",
     "output_type": "stream",
     "text": [
      "the number of segments for image1: 112\n",
      "the number of segments for rescaled image1: 122\n",
      "the number of segments for equalized image1: 103\n",
      "the number of segments for blured image1: 89\n",
      "the number of segments for Gamma corrected image1: 109\n",
      "********************\n",
      "the number of segments for image2: 171\n",
      "the number of segments for rescaled image2: 190\n",
      "the number of segments for equalized image2: 161\n",
      "the number of segments for blured image2: 113\n",
      "the number of segments for Gamma corrected image2: 171\n",
      "********************\n",
      "the number of segments for image1 after thresholding #1: 47\n",
      "the number of segments for image1 after thresholding #2: 105\n",
      "the number of segments for image2 after thresholding #1: 43\n",
      "the number of segments for image2 after thresholding #2: 161\n",
      "length of reference mask is: 47\n",
      "length of mask under evalurion 1 is: 43\n",
      "(512, 512)\n",
      "IoU Score: 0.15453916652256613\n",
      "0\n",
      "0\n"
     ]
    },
    {
     "name": "stderr",
     "output_type": "stream",
     "text": [
      "/home/dock/project_CD_jupyter/my_project_env/lib/python3.8/site-packages/skimage/_shared/utils.py:316: UserWarning: This might be a color image. The histogram will be computed on the flattened image. You can instead apply this function to each color channel, or set channel_axis.\n",
      "  return func(*args, **kwargs)\n"
     ]
    },
    {
     "name": "stdout",
     "output_type": "stream",
     "text": [
      "the number of segments for image1: 43\n",
      "the number of segments for rescaled image1: 46\n",
      "the number of segments for equalized image1: 51\n",
      "the number of segments for blured image1: 42\n",
      "the number of segments for Gamma corrected image1: 43\n",
      "********************\n",
      "the number of segments for image2: 59\n",
      "the number of segments for rescaled image2: 67\n",
      "the number of segments for equalized image2: 54\n",
      "the number of segments for blured image2: 45\n",
      "the number of segments for Gamma corrected image2: 59\n",
      "********************\n",
      "the number of segments for image1 after thresholding #1: 17\n",
      "the number of segments for image1 after thresholding #2: 39\n",
      "the number of segments for image2 after thresholding #1: 21\n",
      "the number of segments for image2 after thresholding #2: 54\n",
      "length of reference mask is: 17\n",
      "length of mask under evalurion 1 is: 21\n",
      "(512, 512)\n",
      "IoU Score: 0.196721823290665\n",
      "31\n",
      "31\n"
     ]
    },
    {
     "name": "stderr",
     "output_type": "stream",
     "text": [
      "/home/dock/project_CD_jupyter/my_project_env/lib/python3.8/site-packages/skimage/_shared/utils.py:316: UserWarning: This might be a color image. The histogram will be computed on the flattened image. You can instead apply this function to each color channel, or set channel_axis.\n",
      "  return func(*args, **kwargs)\n"
     ]
    },
    {
     "name": "stdout",
     "output_type": "stream",
     "text": [
      "the number of segments for image1: 88\n",
      "the number of segments for rescaled image1: 93\n",
      "the number of segments for equalized image1: 113\n",
      "the number of segments for blured image1: 72\n",
      "the number of segments for Gamma corrected image1: 85\n",
      "********************\n",
      "the number of segments for image2: 134\n",
      "the number of segments for rescaled image2: 152\n",
      "the number of segments for equalized image2: 144\n",
      "the number of segments for blured image2: 131\n",
      "the number of segments for Gamma corrected image2: 134\n",
      "********************\n",
      "the number of segments for image1 after thresholding #1: 22\n",
      "the number of segments for image1 after thresholding #2: 82\n",
      "the number of segments for image2 after thresholding #1: 36\n",
      "the number of segments for image2 after thresholding #2: 124\n",
      "length of reference mask is: 22\n",
      "length of mask under evalurion 1 is: 36\n",
      "(512, 512)\n",
      "IoU Score: 0.1533921113689095\n",
      "40\n",
      "40\n"
     ]
    },
    {
     "name": "stderr",
     "output_type": "stream",
     "text": [
      "/home/dock/project_CD_jupyter/my_project_env/lib/python3.8/site-packages/skimage/_shared/utils.py:316: UserWarning: This might be a color image. The histogram will be computed on the flattened image. You can instead apply this function to each color channel, or set channel_axis.\n",
      "  return func(*args, **kwargs)\n"
     ]
    },
    {
     "name": "stdout",
     "output_type": "stream",
     "text": [
      "the number of segments for image1: 100\n",
      "the number of segments for rescaled image1: 107\n",
      "the number of segments for equalized image1: 109\n",
      "the number of segments for blured image1: 75\n",
      "the number of segments for Gamma corrected image1: 97\n",
      "********************\n",
      "the number of segments for image2: 105\n",
      "the number of segments for rescaled image2: 121\n",
      "the number of segments for equalized image2: 87\n",
      "the number of segments for blured image2: 64\n",
      "the number of segments for Gamma corrected image2: 105\n",
      "********************\n",
      "the number of segments for image1 after thresholding #1: 30\n",
      "the number of segments for image1 after thresholding #2: 90\n",
      "the number of segments for image2 after thresholding #1: 33\n",
      "the number of segments for image2 after thresholding #2: 93\n",
      "length of reference mask is: 30\n",
      "length of mask under evalurion 1 is: 33\n",
      "(512, 512)\n",
      "IoU Score: 0.07342109990504786\n",
      "39\n",
      "39\n"
     ]
    },
    {
     "name": "stderr",
     "output_type": "stream",
     "text": [
      "/home/dock/project_CD_jupyter/my_project_env/lib/python3.8/site-packages/skimage/_shared/utils.py:316: UserWarning: This might be a color image. The histogram will be computed on the flattened image. You can instead apply this function to each color channel, or set channel_axis.\n",
      "  return func(*args, **kwargs)\n"
     ]
    },
    {
     "name": "stdout",
     "output_type": "stream",
     "text": [
      "the number of segments for image1: 104\n",
      "the number of segments for rescaled image1: 139\n",
      "the number of segments for equalized image1: 143\n",
      "the number of segments for blured image1: 110\n",
      "the number of segments for Gamma corrected image1: 107\n",
      "********************\n",
      "the number of segments for image2: 142\n",
      "the number of segments for rescaled image2: 163\n",
      "the number of segments for equalized image2: 141\n",
      "the number of segments for blured image2: 126\n",
      "the number of segments for Gamma corrected image2: 142\n",
      "********************\n",
      "the number of segments for image1 after thresholding #1: 34\n",
      "the number of segments for image1 after thresholding #2: 94\n",
      "the number of segments for image2 after thresholding #1: 37\n",
      "the number of segments for image2 after thresholding #2: 135\n",
      "length of reference mask is: 34\n",
      "length of mask under evalurion 1 is: 37\n",
      "(512, 512)\n",
      "IoU Score: 0.1376774175540452\n",
      "7\n",
      "7\n"
     ]
    },
    {
     "name": "stderr",
     "output_type": "stream",
     "text": [
      "/home/dock/project_CD_jupyter/my_project_env/lib/python3.8/site-packages/skimage/_shared/utils.py:316: UserWarning: This might be a color image. The histogram will be computed on the flattened image. You can instead apply this function to each color channel, or set channel_axis.\n",
      "  return func(*args, **kwargs)\n"
     ]
    },
    {
     "name": "stdout",
     "output_type": "stream",
     "text": [
      "the number of segments for image1: 72\n",
      "the number of segments for rescaled image1: 67\n",
      "the number of segments for equalized image1: 60\n",
      "the number of segments for blured image1: 58\n",
      "the number of segments for Gamma corrected image1: 70\n",
      "********************\n",
      "the number of segments for image2: 114\n",
      "the number of segments for rescaled image2: 123\n",
      "the number of segments for equalized image2: 117\n",
      "the number of segments for blured image2: 78\n",
      "the number of segments for Gamma corrected image2: 114\n",
      "********************\n",
      "the number of segments for image1 after thresholding #1: 17\n",
      "the number of segments for image1 after thresholding #2: 67\n",
      "the number of segments for image2 after thresholding #1: 40\n",
      "the number of segments for image2 after thresholding #2: 108\n",
      "length of reference mask is: 17\n",
      "length of mask under evalurion 1 is: 40\n",
      "(512, 512)\n",
      "IoU Score: 0.22658729506174868\n",
      "35\n",
      "35\n"
     ]
    },
    {
     "name": "stderr",
     "output_type": "stream",
     "text": [
      "/home/dock/project_CD_jupyter/my_project_env/lib/python3.8/site-packages/skimage/_shared/utils.py:316: UserWarning: This might be a color image. The histogram will be computed on the flattened image. You can instead apply this function to each color channel, or set channel_axis.\n",
      "  return func(*args, **kwargs)\n"
     ]
    },
    {
     "name": "stdout",
     "output_type": "stream",
     "text": [
      "the number of segments for image1: 96\n",
      "the number of segments for rescaled image1: 107\n",
      "the number of segments for equalized image1: 114\n",
      "the number of segments for blured image1: 76\n",
      "the number of segments for Gamma corrected image1: 93\n",
      "********************\n",
      "the number of segments for image2: 110\n",
      "the number of segments for rescaled image2: 103\n",
      "the number of segments for equalized image2: 101\n",
      "the number of segments for blured image2: 71\n",
      "the number of segments for Gamma corrected image2: 110\n",
      "********************\n",
      "the number of segments for image1 after thresholding #1: 33\n",
      "the number of segments for image1 after thresholding #2: 88\n",
      "the number of segments for image2 after thresholding #1: 42\n",
      "the number of segments for image2 after thresholding #2: 98\n",
      "length of reference mask is: 33\n",
      "length of mask under evalurion 1 is: 42\n",
      "(512, 512)\n",
      "IoU Score: 0.1414434890751978\n"
     ]
    }
   ],
   "source": [
    "file_path_A = '/home/dock/project_CD_jupyter/my_project_env/Meta_repository/test_DSIFN/t1/'\n",
    "file_path_B = '/home/dock/project_CD_jupyter/my_project_env/Meta_repository/test_DSIFN/t2/'\n",
    "GroundT_path = '/home/dock/project_CD_jupyter/my_project_env/Meta_repository/test_DSIFN/mask/'\n",
    "iou_scores =[]\n",
    "accuracy =[]\n",
    "precision =[]\n",
    "recall =[]\n",
    "F1_score =[]\n",
    "specificity =[]\n",
    "Fpr =[]\n",
    "\n",
    "\n",
    "for filename in os.listdir(file_path_A):\n",
    "    img_path_A = os.path.join(file_path_A, filename)\n",
    "    img_path_B = os.path.join(file_path_B, filename)\n",
    "   \n",
    "    name_im = os.path.basename(img_path_A)\n",
    "    name_im, ext = os.path.splitext(name_im)\n",
    "    GT_path = os.path.join(GroundT_path, name_im +'.tif')\n",
    "\n",
    "    imageA,name_img = read_imag(img_path_A)\n",
    "    imageB,name_img = read_imag(img_path_B)\n",
    "\n",
    "    #Gamma Correction:\n",
    "    imageA_GC = Gamma_Correction (imageA, gamma=0.8)\n",
    "    imageB_GC = Gamma_Correction (imageB, gamma=1)\n",
    "\n",
    "    #rescale_intensity\n",
    "    imgA_rescale, imgA_equalized,imgA_BlurGaussian = preprocessing(imageA)\n",
    "   #plot_image_preproc(imageA,imgA_rescale,imgA_equalized,imgA_BlurGaussian,name_img)\n",
    "\n",
    "    imgB_rescale, imgB_equalized,imgB_BlurGaussian = preprocessing(imageB)\n",
    "    #plot_image_preproc(imageB,imgB_rescale,imgB_equalized,imgB_BlurGaussian,name_img)\n",
    "\n",
    "    masksA = mask_generator.generate((imageA).astype(np.uint8))\n",
    "    masksB = mask_generator.generate((imageB).astype(np.uint8))\n",
    "\n",
    "\n",
    "    ## Generate masks for equalized  and blured and Gamma corrected image\n",
    "    masksA_rescaled = mask_generator.generate(imgA_rescale.astype(np.uint8))\n",
    "    masksA_equalized = mask_generator.generate(imgA_equalized.astype(np.uint8))\n",
    "    masksA_blur = mask_generator.generate(imgA_BlurGaussian.astype(np.uint8))\n",
    "    masksA_GC = mask_generator.generate(imageA_GC)\n",
    "    print(\"the number of segments for image1:\",len(masksA))\n",
    "    print(\"the number of segments for rescaled image1:\",len(masksA_rescaled))\n",
    "    print(\"the number of segments for equalized image1:\", len(masksA_equalized))\n",
    "    print(\"the number of segments for blured image1:\", len(masksA_blur))\n",
    "    print(\"the number of segments for Gamma corrected image1:\", len(masksA_GC))\n",
    "    print(\"*\"*20)\n",
    "\n",
    "    masksB_rescaled = mask_generator.generate(imgB_rescale.astype(np.uint8))\n",
    "    masksB_equalized = mask_generator.generate(imgB_equalized.astype(np.uint8))\n",
    "    masksB_blur = mask_generator.generate(imgB_BlurGaussian.astype(np.uint8))\n",
    "    masksB_GC = mask_generator.generate(imageB_GC)\n",
    "    print(\"the number of segments for image2:\",len(masksB))\n",
    "    print(\"the number of segments for rescaled image2:\",len(masksB_rescaled))\n",
    "    print(\"the number of segments for equalized image2:\", len(masksB_equalized))\n",
    "    print(\"the number of segments for blured image2:\", len(masksB_blur))\n",
    "    print(\"the number of segments for Gamma corrected image2:\", len(masksB_GC))\n",
    "    print(\"*\"*20)\n",
    "\n",
    "    sele_seg_m_A, sele_seg_b_A = select_segment(masksA) #masks1_blur #masks1_equalized\n",
    "    #plot_selec_seg(imageA_GC, sele_seg_m_A,sele_seg_b_A,name_img)\n",
    "\n",
    "    sele_seg_m_B, sele_seg_b_B = select_segment(masksB) #masks2_GC #masks2_equalized\n",
    "    #plot_selec_seg(imageB, sele_seg_m_B,sele_seg_b_B,name_img)\n",
    "\n",
    "    print(\"the number of segments for image1 after thresholding #1:\",len(sele_seg_m_A))\n",
    "    print(\"the number of segments for image1 after thresholding #2:\",len(sele_seg_b_A))\n",
    "\n",
    "    print(\"the number of segments for image2 after thresholding #1:\",len(sele_seg_m_B))\n",
    "    print(\"the number of segments for image2 after thresholding #2:\",len(sele_seg_b_B))\n",
    "\n",
    "    #change detection\n",
    "    masks_ref = sorted(sele_seg_m_A, key=(lambda x: x['area']), reverse=True) #sele_seg_b_1 #sele_seg_m_1\n",
    "    image_ref = imageA \n",
    "    name_img_ref = name_img\n",
    "    print(\"length of reference mask is:\", len(masks_ref))\n",
    "\n",
    "    masks_eval_1 = sorted(sele_seg_m_B, key=(lambda x: x['area']), reverse=True) #sele_seg_b_2 #sele_seg_m_2\n",
    "    image_eval_1 = imageB\n",
    "    name_img_eval_1 = name_img\n",
    "    print(\"length of mask under evalurion 1 is:\", len(masks_eval_1))\n",
    "\n",
    "    matches_1,mached_bb_ref_1,mached_bb_eval_1,unmatch_bb_ref_1 = match_objects_bb(masks_ref,masks_eval_1, iou_threshold=0.6)\n",
    "    match_idx_ref_1 = [pair[0] for pair in matches_1]\n",
    "    match_idx_eval_1 = [pair[1] for pair in matches_1]\n",
    "    match_idx_eval_1 = sorted(list(set(match_idx_eval_1)))\n",
    "    unmatch_bb_eval_1 = list(filter(lambda pair2: pair2[0] not in match_idx_eval_1, enumerate(masks_eval_1)))\n",
    "    unmatch_bb_eval_1 = [segmen2 for index2, segmen2 in unmatch_bb_eval_1]\n",
    "\n",
    "    unmatch_seg = np.any(np.array([xx['segmentation'] for xx in unmatch_bb_eval_1]),axis=0)\n",
    "\n",
    "    ##Ground truth\n",
    "    GT = cv2.imread(GT_path, cv2.IMREAD_UNCHANGED)\n",
    "    #plt.imshow(GT)\n",
    "    print(np.shape(GT))\n",
    "    \n",
    "   # iou = compute_IOU_CM(np.any(GT, axis=2).flatten(), unmatch_seg.flatten())\n",
    "    iou = compute_IOU_CM(GT.flatten(), unmatch_seg.flatten())\n",
    "    iou_scores.append(iou)\n",
    "    #cm = confusion_matrix(np.any(GT, axis=2).flatten(), unmatch_seg.flatten()) \n",
    "    cm = confusion_matrix(GT.flatten(), unmatch_seg.flatten()) \n",
    "\n",
    "    accu, precis, reca, f1_score, specific, fpr = calculate_metrics(cm)\n",
    "    accuracy.append(accu)\n",
    "    precision.append(precis)\n",
    "    recall.append(reca)\n",
    "    F1_score.append(f1_score)\n",
    "    specificity.append(specific)\n",
    "    Fpr.append(fpr)\n",
    "\n",
    "import pandas as pd\n",
    "list_dict = {'accuracy':accuracy,'precision':precision,'recall':recall,'F1_score':F1_score,'specificity':specificity,'Fpr':Fpr,'iou_scores':iou_scores}\n",
    "df = pd.DataFrame(list_dict)\n",
    "df.to_csv(\"./result_DSIFN.csv\", sep=',',index=False)"
   ]
  },
  {
   "cell_type": "code",
   "execution_count": 17,
   "id": "fcb18ca5-b21a-4383-8cac-eb56fd42b090",
   "metadata": {},
   "outputs": [],
   "source": []
  },
  {
   "cell_type": "code",
   "execution_count": 26,
   "id": "be979af7-caca-4e33-9d61-4c2d5746d688",
   "metadata": {},
   "outputs": [
    {
     "data": {
      "text/html": [
       "<div>\n",
       "<style scoped>\n",
       "    .dataframe tbody tr th:only-of-type {\n",
       "        vertical-align: middle;\n",
       "    }\n",
       "\n",
       "    .dataframe tbody tr th {\n",
       "        vertical-align: top;\n",
       "    }\n",
       "\n",
       "    .dataframe thead th {\n",
       "        text-align: right;\n",
       "    }\n",
       "</style>\n",
       "<table border=\"1\" class=\"dataframe\">\n",
       "  <thead>\n",
       "    <tr style=\"text-align: right;\">\n",
       "      <th></th>\n",
       "      <th>accuracy</th>\n",
       "      <th>precision</th>\n",
       "      <th>recall</th>\n",
       "      <th>F1_score</th>\n",
       "      <th>specificity</th>\n",
       "      <th>Fpr</th>\n",
       "      <th>iou_scores</th>\n",
       "    </tr>\n",
       "  </thead>\n",
       "  <tbody>\n",
       "    <tr>\n",
       "      <th>0</th>\n",
       "      <td>0.801895</td>\n",
       "      <td>0.381697</td>\n",
       "      <td>0.200346</td>\n",
       "      <td>0.262769</td>\n",
       "      <td>0.930576</td>\n",
       "      <td>0.069424</td>\n",
       "      <td>None</td>\n",
       "    </tr>\n",
       "    <tr>\n",
       "      <th>1</th>\n",
       "      <td>0.873863</td>\n",
       "      <td>0.165752</td>\n",
       "      <td>0.084452</td>\n",
       "      <td>0.111893</td>\n",
       "      <td>0.955853</td>\n",
       "      <td>0.044147</td>\n",
       "      <td>None</td>\n",
       "    </tr>\n",
       "    <tr>\n",
       "      <th>2</th>\n",
       "      <td>0.855583</td>\n",
       "      <td>0.333089</td>\n",
       "      <td>0.507051</td>\n",
       "      <td>0.402060</td>\n",
       "      <td>0.892492</td>\n",
       "      <td>0.107508</td>\n",
       "      <td>None</td>\n",
       "    </tr>\n",
       "    <tr>\n",
       "      <th>3</th>\n",
       "      <td>0.864822</td>\n",
       "      <td>0.029261</td>\n",
       "      <td>0.052337</td>\n",
       "      <td>0.037536</td>\n",
       "      <td>0.907914</td>\n",
       "      <td>0.092086</td>\n",
       "      <td>None</td>\n",
       "    </tr>\n",
       "    <tr>\n",
       "      <th>4</th>\n",
       "      <td>0.839931</td>\n",
       "      <td>0.458222</td>\n",
       "      <td>0.288771</td>\n",
       "      <td>0.354277</td>\n",
       "      <td>0.938771</td>\n",
       "      <td>0.061229</td>\n",
       "      <td>None</td>\n",
       "    </tr>\n",
       "  </tbody>\n",
       "</table>\n",
       "</div>"
      ],
      "text/plain": [
       "   accuracy  precision    recall  F1_score  specificity       Fpr iou_scores\n",
       "0  0.801895   0.381697  0.200346  0.262769     0.930576  0.069424       None\n",
       "1  0.873863   0.165752  0.084452  0.111893     0.955853  0.044147       None\n",
       "2  0.855583   0.333089  0.507051  0.402060     0.892492  0.107508       None\n",
       "3  0.864822   0.029261  0.052337  0.037536     0.907914  0.092086       None\n",
       "4  0.839931   0.458222  0.288771  0.354277     0.938771  0.061229       None"
      ]
     },
     "execution_count": 26,
     "metadata": {},
     "output_type": "execute_result"
    }
   ],
   "source": [
    "df.head()"
   ]
  },
  {
   "cell_type": "code",
   "execution_count": 11,
   "id": "954310b4-2d09-48a9-8731-69443a04b2f1",
   "metadata": {},
   "outputs": [
    {
     "name": "stdout",
     "output_type": "stream",
     "text": [
      "          OA  precision    recall  F1_score  specificity       Fpr  iou_scores\n",
      "0   0.801895   0.381697  0.200346  0.262769     0.930576  0.069424         NaN\n",
      "1   0.873863   0.165752  0.084452  0.111893     0.955853  0.044147         NaN\n",
      "2   0.855583   0.333089  0.507051  0.402060     0.892492  0.107508         NaN\n",
      "3   0.864822   0.029261  0.052337  0.037536     0.907914  0.092086         NaN\n",
      "4   0.839931   0.458222  0.288771  0.354277     0.938771  0.061229         NaN\n",
      "5   0.877815   0.094816  0.188004  0.126057     0.911738  0.088262         NaN\n",
      "6   0.702477   0.578774  0.145002  0.231904     0.952643  0.047357         NaN\n",
      "7   0.872612   0.238730  0.297439  0.264870     0.920700  0.079300         NaN\n",
      "8   0.774296   0.452777  0.208939  0.285932     0.930313  0.069687         NaN\n",
      "9   0.860504   0.163693  0.120366  0.138725     0.936696  0.063304         NaN\n",
      "10  0.707123   0.436421  0.104472  0.168587     0.946428  0.053572         NaN\n",
      "11  0.727489   0.301629  0.098706  0.148739     0.927356  0.072644         NaN\n",
      "12  0.690147   0.516460  0.165690  0.250890     0.929270  0.070730         NaN\n",
      "13  0.856560   0.248189  0.178784  0.207845     0.936291  0.063709         NaN\n",
      "14  0.885525   0.273216  0.444271  0.338353     0.916647  0.083353         NaN\n",
      "15  0.770058   0.374663  0.210519  0.269570     0.911303  0.088697         NaN\n",
      "16  0.823471   0.459528  0.268121  0.338650     0.936065  0.063935         NaN\n",
      "17  0.826065   0.207220  0.193292  0.200014     0.906269  0.093731         NaN\n",
      "18  0.644310   0.505408  0.167785  0.251934     0.908849  0.091151         NaN\n",
      "19  0.703873   0.729262  0.235259  0.355752     0.953479  0.046521         NaN\n",
      "20  0.844746   0.421335  0.403834  0.412399     0.913506  0.086494         NaN\n",
      "21  0.901226   0.066847  0.376305  0.113527     0.910200  0.089800         NaN\n",
      "22  0.586624   0.626469  0.166525  0.263111     0.920976  0.079024         NaN\n",
      "23  0.800606   0.501511  0.231416  0.316696     0.942612  0.057388         NaN\n",
      "24  0.708359   0.457427  0.178237  0.256520     0.916852  0.083148         NaN\n",
      "25  0.887791   0.256810  0.432671  0.322313     0.917704  0.082296         NaN\n",
      "26  0.873070   0.339351  0.463208  0.391722     0.912733  0.087267         NaN\n",
      "27  0.905712   0.362099  0.273167  0.311408     0.959261  0.040739         NaN\n",
      "28  0.717636   0.392561  0.163578  0.230929     0.911455  0.088545         NaN\n",
      "29  0.819508   0.297284  0.135701  0.186342     0.942367  0.057633         NaN\n",
      "30  0.788483   0.424588  0.163296  0.235875     0.944702  0.055298         NaN\n",
      "31  0.830334   0.515822  0.276694  0.360181     0.945823  0.054177         NaN\n",
      "32  0.834496   0.055096  0.140340  0.079127     0.871543  0.128457         NaN\n",
      "33  0.860863   0.071723  0.103738  0.084810     0.911032  0.088968         NaN\n",
      "34  0.889809   0.276532  0.200064  0.232164     0.952458  0.047542         NaN\n",
      "35  0.733028   0.484108  0.113579  0.183991     0.956362  0.043638         NaN\n",
      "36  0.803665   0.173914  0.263620  0.209571     0.862826  0.137174         NaN\n",
      "37  0.808590   0.243735  0.141638  0.179162     0.923972  0.076028         NaN\n",
      "38  0.898853   0.251493  0.266893  0.258964     0.943669  0.056331         NaN\n",
      "39  0.829704   0.168035  0.193120  0.179707     0.897768  0.102232         NaN\n",
      "40  0.853790   0.120300  0.134947  0.127203     0.915410  0.084590         NaN\n",
      "41  0.440464   0.696878  0.165676  0.267707     0.883747  0.116253         NaN\n",
      "42  0.901852   0.358256  0.303765  0.328768     0.953244  0.046756         NaN\n",
      "43  0.826008   0.269431  0.262624  0.265984     0.902860  0.097140         NaN\n",
      "44  0.862267   0.181409  0.109798  0.136798     0.945317  0.054683         NaN\n",
      "45  0.764297   0.417231  0.170457  0.242032     0.932545  0.067455         NaN\n",
      "46  0.820587   0.433438  0.321939  0.369460     0.917887  0.082113         NaN\n",
      "47  0.694515   0.522185  0.162471  0.247833     0.933282  0.066718         NaN\n"
     ]
    }
   ],
   "source": [
    "import pandas as pd\n",
    "metric = pd.read_csv('result_DSIFN.csv')\n",
    "metric = metric.rename(columns={'accuracy': 'OA'})  \n",
    "print(metric)"
   ]
  },
  {
   "cell_type": "code",
   "execution_count": 31,
   "id": "e4df3845-1bba-4c6d-9c29-ae55a22aafbf",
   "metadata": {},
   "outputs": [
    {
     "name": "stdout",
     "output_type": "stream",
     "text": [
      "accuracy: 0.8009437719980875\n",
      "precision: 0.3403057241989027\n",
      "recall 0.21831057355702035\n",
      "F1_score 0.240430472992705\n",
      "specificity: 0.9248284619697182\n",
      "Fpr: 0.07517153803028166\n",
      "iou_scores: nan\n"
     ]
    }
   ],
   "source": [
    "import numpy as np\n",
    "print('accuracy:', np.mean(metric['OA']))\n",
    "print('precision:', np.mean(metric['precision']))\n",
    "print('recall', np.mean(metric['recall']))\n",
    "print('F1_score', np.mean(metric['F1_score']))\n",
    "print('specificity:', np.mean(metric['specificity']))\n",
    "print('Fpr:', np.mean(metric['Fpr']))\n",
    "print('iou_scores:',np.mean(metric['iou_scores']))"
   ]
  },
  {
   "cell_type": "code",
   "execution_count": 10,
   "id": "5f8fc5da-ead2-4daa-aa0a-0451fe8a1f87",
   "metadata": {},
   "outputs": [
    {
     "data": {
      "image/png": "[encoded data removed]",
      "text/plain": [
       "<Figure size 1000x600 with 1 Axes>"
      ]
     },
     "metadata": {},
     "output_type": "display_data"
    }
   ],
   "source": [
    "columns_to_plot = ['OA','precision','recall','F1_score','Fpr']\n",
    "import matplotlib.pyplot as plt\n",
    "plt.figure(figsize=(10, 6))\n",
    "box = metric[columns_to_plot].boxplot( )\n",
    "for box in box.artists:\n",
    "    box.set_linewidth(2)\n",
    "\n",
    "for whisker in box.lines:\n",
    "    whisker.set_linewidth(2)\n",
    "#plt.title('Boxplot of Metrices for LEVIR-CD dataset')\n",
    "#plt.xlabel('Columns')\n",
    "#plt.ylabel('Values')\n",
    "plt.grid(True)\n",
    "plt.savefig('boxplot_DSIFN-CD.pdf') #, bbox_inches='tight'\n",
    "plt.show()\n"
   ]
  },
  {
   "cell_type": "code",
   "execution_count": null,
   "id": "4520b0d6-284b-4d79-8155-a43ad4a41887",
   "metadata": {},
   "outputs": [],
   "source": []
  }
 ],
 "metadata": {
  "kernelspec": {
   "display_name": "Python 3 (ipykernel)",
   "language": "python",
   "name": "python3"
  },
  "language_info": {
   "codemirror_mode": {
    "name": "ipython",
    "version": 3
   },
   "file_extension": ".py",
   "mimetype": "text/x-python",
   "name": "python",
   "nbconvert_exporter": "python",
   "pygments_lexer": "ipython3",
   "version": "3.8.10"
  }
 },
 "nbformat": 4,
 "nbformat_minor": 5
}
